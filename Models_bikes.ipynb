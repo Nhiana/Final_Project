{
 "cells": [
  {
   "cell_type": "code",
   "execution_count": null,
   "id": "e3f0ace8-ac4f-4bad-9711-a86bad9c6b4e",
   "metadata": {},
   "outputs": [],
   "source": [
    "import pandas as pd\n",
    "import numpy as np\n",
    "import matplotlib.pyplot as plt\n",
    "import seaborn as sns\n",
    "from sklearn.cluster import KMeans\n",
    "from sklearn.preprocessing import StandardScaler\n",
    "from sklearn.decomposition import PCA\n",
    "from sklearn.metrics import silhouette_score\n",
    "from sklearn.model_selection import train_test_split\n",
    "from sklearn.linear_model import LinearRegression\n",
    "from sklearn.metrics import mean_squared_error, r2_score\n",
    "from sklearn.model_selection import train_test_split\n",
    "from sklearn.preprocessing import LabelEncoder\n",
    "from sklearn.ensemble import RandomForestClassifier\n",
    "from sklearn.metrics import accuracy_score, classification_report, confusion_matrix"
   ]
  },
  {
   "cell_type": "code",
   "execution_count": null,
   "id": "e56901a0-182d-4887-97ef-f01f2353972f",
   "metadata": {},
   "outputs": [],
   "source": [
    "Bike = pd.read_csv('cleaned_df.csv')"
   ]
  },
  {
   "cell_type": "code",
   "execution_count": null,
   "id": "e5cd0d68-3145-4af2-a170-03e285c7aae9",
   "metadata": {},
   "outputs": [],
   "source": [
    "# Step 1: Data Preparation\n",
    "features = ['cost_of_bike', 'rating', 'price']\n",
    "data = Bike[features]"
   ]
  },
  {
   "cell_type": "code",
   "execution_count": null,
   "id": "2364c161-814f-4d1b-9905-547684e52f12",
   "metadata": {},
   "outputs": [],
   "source": [
    "# Step 2: Feature Scaling\n",
    "scaler = StandardScaler()\n",
    "scaled_data = scaler.fit_transform(data)"
   ]
  },
  {
   "cell_type": "code",
   "execution_count": null,
   "id": "34e285f2-7ec6-4d15-a086-73d4b4079da5",
   "metadata": {},
   "outputs": [],
   "source": [
    "# Step 3: Determine the Number of Clusters (K)\n",
    "# Use the elbow method to find the optimal number of clusters\n",
    "wcss = []\n",
    "for i in range(1, 11):\n",
    "    kmeans = KMeans(n_clusters=i, random_state=42)\n",
    "    kmeans.fit(scaled_data)\n",
    "    wcss.append(kmeans.inertia_)"
   ]
  },
  {
   "cell_type": "code",
   "execution_count": null,
   "id": "18a834a7-1ed7-481f-937a-b0bc0e5a3642",
   "metadata": {},
   "outputs": [],
   "source": [
    "# Plot the elbow method\n",
    "plt.plot(range(1, 11), wcss, marker='o')\n",
    "plt.title('Elbow Method for Optimal K')\n",
    "plt.xlabel('Number of Clusters (K)')\n",
    "plt.ylabel('Within-Cluster Sum of Squares (WCSS)')\n",
    "plt.show()"
   ]
  },
  {
   "cell_type": "code",
   "execution_count": null,
   "id": "7754a650-65d3-4a0f-aa67-a0efbdf051bd",
   "metadata": {},
   "outputs": [],
   "source": [
    "# Based on the elbow method, choose an optimal K (number of clusters)\n",
    "optimal_k = 3"
   ]
  },
  {
   "cell_type": "code",
   "execution_count": null,
   "id": "f725bdd3-e346-4b0c-acb9-832c9ec23b35",
   "metadata": {},
   "outputs": [],
   "source": [
    "# Step 4: Apply K-Means Clustering\n",
    "kmeans = KMeans(n_clusters=optimal_k, random_state=42)\n",
    "cluster_labels = kmeans.fit_predict(scaled_data)"
   ]
  },
  {
   "cell_type": "code",
   "execution_count": null,
   "id": "5107983f-0d5b-4bd3-9a92-ba2b150a5985",
   "metadata": {},
   "outputs": [],
   "source": [
    "# Step 5: Analyze Cluster Results\n",
    "# Add cluster labels to the original DataFrame\n",
    "Bike['cluster'] = cluster_labels"
   ]
  },
  {
   "cell_type": "code",
   "execution_count": null,
   "id": "5e784db7-68f0-4afa-8ed0-68a2ec12adb8",
   "metadata": {},
   "outputs": [],
   "source": [
    "# Step 6: Visualization using PCA for simplicity (you can choose other features)\n",
    "pca = PCA(n_components=2)\n",
    "reduced_data = pca.fit_transform(scaled_data)"
   ]
  },
  {
   "cell_type": "code",
   "execution_count": null,
   "id": "33201eaf-5efe-4a7e-811c-5c353e3d01d9",
   "metadata": {},
   "outputs": [],
   "source": [
    "# Visualize clusters in 2D space\n",
    "plt.scatter(reduced_data[:, 0], reduced_data[:, 1], c=cluster_labels, cmap='viridis', alpha=0.5)\n",
    "plt.scatter(kmeans.cluster_centers_[:, 0], kmeans.cluster_centers_[:, 1], s=300, c='red')\n",
    "plt.title('K-Means Clustering')\n",
    "plt.xlabel('Principal Component 1')\n",
    "plt.ylabel('Principal Component 2')\n",
    "plt.show()"
   ]
  },
  {
   "cell_type": "code",
   "execution_count": null,
   "id": "03f3d1a8-0306-4c5a-b5b5-bea3cb029c32",
   "metadata": {},
   "outputs": [],
   "source": [
    "#silhouette_scores = []\n",
    "#for i in range(2, 11):\n",
    "    #kmeans = KMeans(n_clusters=i, random_state=42)\n",
    "    #labels = kmeans.fit_predict(scaled_data)\n",
    "    #silhouette_scores.append(silhouette_score(scaled_data, labels))\n",
    "\n",
    "# Plot silhouette scores\n",
    "#plt.plot(range(2, 11), silhouette_scores, marker='o')\n",
    "#plt.title('Silhouette Analysis for Optimal K')\n",
    "#plt.xlabel('Number of Clusters (K)')\n",
    "#plt.ylabel('Silhouette Score')\n",
    "#plt.show()"
   ]
  },
  {
   "cell_type": "markdown",
   "id": "f7adf570-09fd-4759-9df1-8db5af4eb0d9",
   "metadata": {},
   "source": [
    "# Regression Analysis: Use regression models to analyze the relationship between various factors (criteria, rating, location) and the price of insurance products. This can help in determining the optimal pricing strategy for Bike ProteKt's products."
   ]
  },
  {
   "cell_type": "code",
   "execution_count": null,
   "id": "00ea2828-6478-4d7e-8d34-f9cbbc6d2656",
   "metadata": {},
   "outputs": [],
   "source": [
    "# Step 1: Data Preparation\n",
    "# Select relevant features and the target variable (price)\n",
    "features = ['criteria', 'rating', 'location']\n",
    "target_variable = 'price'\n",
    "data = Bike[features + [target_variable]]"
   ]
  },
  {
   "cell_type": "code",
   "execution_count": null,
   "id": "b91bd35b-604a-436c-a844-46eab246f952",
   "metadata": {},
   "outputs": [],
   "source": [
    "# Handle categorical variables (one-hot encoding)\n",
    "data = pd.get_dummies(data, columns=['criteria', 'location'], drop_first=True)"
   ]
  },
  {
   "cell_type": "code",
   "execution_count": null,
   "id": "feb81c1c-22a4-451d-ba28-a65dc536ece1",
   "metadata": {},
   "outputs": [],
   "source": [
    "# Step 2: Split the data into training and testing sets\n",
    "X = data.drop(target_variable, axis=1)\n",
    "y = data[target_variable]\n",
    "X_train, X_test, y_train, y_test = train_test_split(X, y, test_size=0.2, random_state=42)"
   ]
  },
  {
   "cell_type": "code",
   "execution_count": null,
   "id": "e91a5167-42e0-4d93-a63b-a1017a7937c4",
   "metadata": {},
   "outputs": [],
   "source": [
    "# Step 3: Train a Linear Regression model\n",
    "model = LinearRegression()\n",
    "model.fit(X_train, y_train)"
   ]
  },
  {
   "cell_type": "code",
   "execution_count": null,
   "id": "f3eb2679-b5d7-454a-a693-0e69ab2acd06",
   "metadata": {},
   "outputs": [],
   "source": [
    "# Step 4: Make predictions on the test set\n",
    "y_pred = model.predict(X_test)"
   ]
  },
  {
   "cell_type": "code",
   "execution_count": null,
   "id": "0c3b9671-7d29-4059-82ac-f34f21e27d09",
   "metadata": {},
   "outputs": [],
   "source": [
    "# Step 5: Evaluate the model\n",
    "mse = mean_squared_error(y_test, y_pred)\n",
    "r2 = r2_score(y_test, y_pred)\n",
    "\n",
    "print(f'Mean Squared Error: {mse}')\n",
    "print(f'R-squared: {r2}')\n"
   ]
  },
  {
   "cell_type": "markdown",
   "id": "5208ba79-f3a2-49e1-8d9c-d6fb25bbd75e",
   "metadata": {},
   "source": [
    "- The MSE is 189.22. Lower MSE values are desirable, indicating better model performance. However, the interpretation depends on the scale of your target variable (price).\n",
    "- R² is 0.0929, indicating that the model explains only 9.29% of the variability in the price."
   ]
  },
  {
   "cell_type": "code",
   "execution_count": null,
   "id": "33ee5a4e-ce69-432f-9290-6c777a99d043",
   "metadata": {},
   "outputs": [],
   "source": [
    "# Step 6: Interpret the model coefficients\n",
    "coefficients = pd.DataFrame({'Feature': X.columns, 'Coefficient': model.coef_})\n",
    "print(coefficients)"
   ]
  },
  {
   "cell_type": "markdown",
   "id": "0dd9b175-a044-4bcf-b299-ebba68ce65a4",
   "metadata": {},
   "source": [
    "'rating': For each unit increase in the rating, the price increases by approximately 0.52 units.\r\n",
    "'criteria_Fahrrad': If the criteria are Fahrrad (compared to E-Bike), the price increases by approximately 7.09 units.\r\n",
    "'location_bayern': If the location is Bayern (compared to other locations), the price decreases by approximately 1.53 units."
   ]
  },
  {
   "cell_type": "code",
   "execution_count": null,
   "id": "42555cba-31f2-41f8-958e-a4c839051ecc",
   "metadata": {},
   "outputs": [],
   "source": [
    "# Step 7: Visualize the predicted vs. actual prices\n",
    "plt.scatter(y_test, y_pred)\n",
    "plt.xlabel('Actual Prices')\n",
    "plt.ylabel('Predicted Prices')\n",
    "plt.title('Actual Prices vs. Predicted Prices')\n",
    "plt.show()"
   ]
  },
  {
   "cell_type": "markdown",
   "id": "d950b2db-899a-47f6-8271-42b595795a0d",
   "metadata": {},
   "source": [
    "The model's predictive performance is moderate, as indicated by the R-squared value.\r\n",
    "The features in the model have a limited ability to explain the variability in prices.\r\n",
    "The impact of each feature on the price is relatively small."
   ]
  },
  {
   "cell_type": "markdown",
   "id": "412fb109-4a1a-4510-b04c-6c726b210d0a",
   "metadata": {},
   "source": [
    "## Dynamic Pricing Models: Implement dynamic pricing models that adjust prices based on real-time market conditions, competitor pricing, and customer behavior."
   ]
  },
  {
   "cell_type": "code",
   "execution_count": null,
   "id": "593b3de1-610b-4ff4-a27d-9e34d0d803f5",
   "metadata": {},
   "outputs": [],
   "source": [
    "# Assuming 'price' is the target variable, and other relevant columns are features\n",
    "features = Bike[['criteria', 'cost_of_bike', 'assistance', 'segment', 'rating', 'location']]\n",
    "target = Bike['price']"
   ]
  },
  {
   "cell_type": "code",
   "execution_count": null,
   "id": "becdd9d8-e773-4bc4-bed2-2ce5da2dcf5c",
   "metadata": {},
   "outputs": [],
   "source": [
    "# Step 3: Convert categorical variables to numerical using one-hot encoding\n",
    "features = pd.get_dummies(features, drop_first=True)"
   ]
  },
  {
   "cell_type": "code",
   "execution_count": null,
   "id": "333977f2-0c84-4846-8a30-c75a8072727e",
   "metadata": {},
   "outputs": [],
   "source": [
    "# Step 4: Split the data into training and testing sets\n",
    "X_train, X_test, y_train, y_test = train_test_split(features, target, test_size=0.2, random_state=42)"
   ]
  },
  {
   "cell_type": "code",
   "execution_count": null,
   "id": "eb0c33ee-74a3-4efa-b09f-5930921d2e87",
   "metadata": {},
   "outputs": [],
   "source": [
    "# Step 5: Train a linear regression model\n",
    "model = LinearRegression()\n",
    "model.fit(X_train, y_train)"
   ]
  },
  {
   "cell_type": "code",
   "execution_count": null,
   "id": "a4fa0c5e-44d9-4f53-bc14-9c5c02f144da",
   "metadata": {},
   "outputs": [],
   "source": [
    "# Step 6: Make predictions on the test set\n",
    "predictions = model.predict(X_test)"
   ]
  },
  {
   "cell_type": "code",
   "execution_count": null,
   "id": "aac9ae89-6614-4898-9550-9709d751dc20",
   "metadata": {},
   "outputs": [],
   "source": [
    "# Step 7: Evaluate the model\n",
    "mse = mean_squared_error(y_test, predictions)\n",
    "r_squared = r2_score(y_test, predictions)\n",
    "\n",
    "print(f\"Mean Squared Error: {mse}\")\n",
    "print(f\"R-squared: {r_squared}\")"
   ]
  },
  {
   "cell_type": "code",
   "execution_count": null,
   "id": "e5abf3a3-6d61-4ac1-952d-a75bd72b1e47",
   "metadata": {},
   "outputs": [],
   "source": [
    "# Step 8: Use the trained model for dynamic pricing\n",
    "# Create a sample 'new_data' DataFrame with the same features used in training\n",
    "new_data = {\n",
    "    'criteria': ['Fahrrad'],\n",
    "    'cost_of_bike': [10000],\n",
    "    'assistance': ['Yes'],\n",
    "    'segment': ['Performance recommendation'],\n",
    "    'rating': [1.5],\n",
    "    'location': ['bayern']\n",
    "}\n",
    "\n",
    "# Convert categorical variables to numerical using one-hot encoding\n",
    "new_data_encoded = pd.get_dummies(pd.DataFrame(new_data), drop_first=True)\n",
    "\n",
    "# Ensure the columns in new_data_encoded match the columns used during model training\n",
    "missing_cols = set(features.columns) - set(new_data_encoded.columns)\n",
    "for col in missing_cols:\n",
    "    new_data_encoded[col] = 0\n",
    "\n",
    "# Reorder the columns to match the order during model training\n",
    "new_data_encoded = new_data_encoded[features.columns]\n"
   ]
  },
  {
   "cell_type": "code",
   "execution_count": null,
   "id": "af8dc782-f90d-4efb-af08-f282c978c96c",
   "metadata": {},
   "outputs": [],
   "source": [
    "# Step 9: Use the trained model to predict prices for new data\n",
    "new_predictions = model.predict(new_data_encoded)\n",
    "\n",
    "# Display the predicted prices for the new data\n",
    "print(\"Predicted Prices for New Data:\")\n",
    "print(new_predictions)"
   ]
  },
  {
   "cell_type": "markdown",
   "id": "1d283393-8349-4fa8-b616-91c434333aef",
   "metadata": {},
   "source": [
    "## Classification Models: Develop classification models to categorize customers into different segments based on their preferences, such as \"Fahrrad\" or \"E-Bike,\" and other relevant criteria. This can inform targeted marketing strategies for each segment."
   ]
  },
  {
   "cell_type": "code",
   "execution_count": null,
   "id": "66ca2b25-4f1b-429e-b52b-c3f7723bd58e",
   "metadata": {},
   "outputs": [],
   "source": [
    "# Assuming 'Criteria' is the target variable, and other relevant columns are features\n",
    "features = Bike[['cost_of_bike', 'assistance', 'segment', 'rating', 'location', 'product_variant', 'month']]\n",
    "target = Bike['criteria']\n"
   ]
  },
  {
   "cell_type": "code",
   "execution_count": null,
   "id": "3036260b-62a2-4b56-b292-ee3d3cc61385",
   "metadata": {},
   "outputs": [],
   "source": [
    "# Step 3: Convert categorical variables to numerical using label encoding or one-hot encoding\n",
    "# Using label encoding for simplicity\n",
    "label_encoder = LabelEncoder()\n",
    "features.loc[:, 'assistance'] = label_encoder.fit_transform(features['assistance'])\n",
    "features.loc[:, 'segment'] = label_encoder.fit_transform(features['segment'])\n",
    "features.loc[:, 'location'] = label_encoder.fit_transform(features['location'])\n",
    "features.loc[:, 'product_variant'] = label_encoder.fit_transform(features['product_variant'])\n",
    "features.loc[:, 'month'] = label_encoder.fit_transform(features['month'])\n"
   ]
  },
  {
   "cell_type": "code",
   "execution_count": null,
   "id": "ab273c64-f174-4b57-942d-8370d36699fe",
   "metadata": {},
   "outputs": [],
   "source": [
    "# Step 4: Split the data into training and testing sets\n",
    "X_train, X_test, y_train, y_test = train_test_split(features, target, test_size=0.2, random_state=42)\n"
   ]
  },
  {
   "cell_type": "code",
   "execution_count": null,
   "id": "bcebf712-9b3c-4cf8-9788-4264fbbd9a62",
   "metadata": {},
   "outputs": [],
   "source": [
    "# Step 5: Train a classification model (Random Forest Classifier in this example)\n",
    "classifier = RandomForestClassifier(n_estimators=100, random_state=42)\n",
    "classifier.fit(X_train, y_train)\n"
   ]
  },
  {
   "cell_type": "code",
   "execution_count": null,
   "id": "a3b2ade5-93c5-47dd-b002-4056a482dcfa",
   "metadata": {},
   "outputs": [],
   "source": [
    "# Step 6: Make predictions on the test set\n",
    "predictions = classifier.predict(X_test)"
   ]
  },
  {
   "cell_type": "code",
   "execution_count": null,
   "id": "64fa0b39-bf1a-4719-91f7-49b470f5c3f6",
   "metadata": {},
   "outputs": [],
   "source": [
    "# Step 7: Evaluate the classification model\n",
    "accuracy = accuracy_score(y_test, predictions)\n",
    "conf_matrix = confusion_matrix(y_test, predictions)\n",
    "class_report = classification_report(y_test, predictions)\n",
    "\n",
    "print(f\"Accuracy: {accuracy}\")\n",
    "print(\"Confusion Matrix:\")\n",
    "print(conf_matrix)\n",
    "print(\"Classification Report:\")\n",
    "print(class_report)"
   ]
  },
  {
   "cell_type": "markdown",
   "id": "aaa29d6e-2d29-4bc2-8548-a33bcae76804",
   "metadata": {},
   "source": [
    "Accuracy:it's around 52%, which indicates that the model's performance is slightly better than random guessing.\r\n",
    "\r\n",
    "Confusion Matrix:\r\n",
    "\r\n",
    "True Positives (TP): 2554 instances of \"Fahrrad\" correctly predicted.\r\n",
    "True Negatives (TN): 2578 instances of \"E-Bike\" correctly predicted.\r\n",
    "False Positives (FP): 2353 instances of \"E-Bike\" wrongly predicted as \"Fahrrad.\"\r\n",
    "False Negatives (FN): 2381 instances of \"Fahrrad\" wrongly predicted as \"E\n",
    "-Bike.\"\r\n",
    "Preitives. For \"E-Bike\" and \"Fahrrad,\" precision is both around 52%, meaning that when the model predicts an \"E-Bike\" or \"Fahrrad,\" it's correct about 52% of the time.\r\n",
    "al class. For both \"E-Bike\" and \"Fahrrad,\" recall is around 52%, indicating that the model captures about 52% of the instances of each class.\r\n",
    "\r\n",
    "F1-score: The F1-score is the weighted average of precision and recall. It is a good way to show that a classifer has a good value for both precision and recall. In this case, the F1-score is around 52%."
   ]
  },
  {
   "cell_type": "code",
   "execution_count": null,
   "id": "474034a9-ee10-4bb1-8369-75bca7d08e02",
   "metadata": {},
   "outputs": [],
   "source": []
  }
 ],
 "metadata": {
  "kernelspec": {
   "display_name": "venv",
   "language": "python",
   "name": "venv"
  },
  "language_info": {
   "codemirror_mode": {
    "name": "ipython",
    "version": 3
   },
   "file_extension": ".py",
   "mimetype": "text/x-python",
   "name": "python",
   "nbconvert_exporter": "python",
   "pygments_lexer": "ipython3",
   "version": "3.11.5"
  }
 },
 "nbformat": 4,
 "nbformat_minor": 5
}
