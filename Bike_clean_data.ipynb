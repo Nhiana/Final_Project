{
 "cells": [
  {
   "cell_type": "code",
   "execution_count": null,
   "id": "7d3a9c45-b610-4ecf-9ee4-299005452f1f",
   "metadata": {},
   "outputs": [],
   "source": [
    "import pandas as pd\n",
    "import numpy as np\n",
    "import matplotlib.pyplot as plt"
   ]
  },
  {
   "cell_type": "code",
   "execution_count": null,
   "id": "d036ea82-856c-47d9-a33d-840931282750",
   "metadata": {},
   "outputs": [],
   "source": [
    "bike_jul = pd.read_excel(r\"C:\\Users\\priya\\Documents\\IRONHACK\\Final_Project\\Bike_data_Jul_2023.xlsx\")\n",
    "bike_jul.head()"
   ]
  },
  {
   "cell_type": "code",
   "execution_count": null,
   "id": "a6b5376a-01a2-4c19-80b6-b89aaa8ed324",
   "metadata": {},
   "outputs": [],
   "source": [
    "bike_jul = bike_jul.drop('Product_Category', axis=1)\n"
   ]
  },
  {
   "cell_type": "code",
   "execution_count": null,
   "id": "fdf09603-8130-4df1-bc32-c24884386ff3",
   "metadata": {},
   "outputs": [],
   "source": [
    "column_mapping = {\n",
    "    'Criteria': 'criteria',\n",
    "    'Cost of Bike': 'cost_of_bike',\n",
    "    'Assistance': 'assistance',\n",
    "    'Segment': 'segment',\n",
    "    'Rating': 'rating',\n",
    "    'Price': 'price',\n",
    "    'Provider': 'provider',\n",
    "    'Rank (Sorted by price (Default)': 'rank',\n",
    "    'Postal Code': 'location',\n",
    "    'Product_Variant': 'product_variant'\n",
    "}\n",
    "bike_jul = bike_jul.rename(columns=column_mapping)"
   ]
  },
  {
   "cell_type": "code",
   "execution_count": null,
   "id": "a50ce4ae-f184-4253-a6d8-27c4fc61c45b",
   "metadata": {},
   "outputs": [],
   "source": [
    "#bike_jul.shape\n",
    "bike_jul.columns"
   ]
  },
  {
   "cell_type": "code",
   "execution_count": null,
   "id": "64bd8d06-9b4a-4d67-b2c0-bb25a03a15d5",
   "metadata": {},
   "outputs": [],
   "source": [
    "bike_jul.dtypes"
   ]
  },
  {
   "cell_type": "code",
   "execution_count": null,
   "id": "0b7db615-30ae-4105-9ca4-962b3d16d36a",
   "metadata": {},
   "outputs": [],
   "source": [
    "bike_jul['location'] = bike_jul['location'].astype('object')"
   ]
  },
  {
   "cell_type": "code",
   "execution_count": null,
   "id": "14a48890-337e-4714-a265-9e784c23a76a",
   "metadata": {},
   "outputs": [],
   "source": [
    "\n",
    " # Assuming your DataFrame is called \"bike_jul\" and the column name is \"Segment\"\n",
    " bike_jul['segment'] = bike_jul['segment'].str.strip()\n",
    " unique_values = bike_jul['segment'].unique()\n",
    " print(unique_values)\n"
   ]
  },
  {
   "cell_type": "code",
   "execution_count": null,
   "id": "174f4b81-6436-4f50-914b-3626d5369a15",
   "metadata": {},
   "outputs": [],
   "source": []
  },
  {
   "cell_type": "code",
   "execution_count": null,
   "id": "514491ad-ecf3-40e6-ae4f-116737c2cec2",
   "metadata": {},
   "outputs": [],
   "source": [
    "# Assuming your DataFrame is called \"bike_jul\" and the column name is \"Segment\"\n",
    "bike_jul.loc[bike_jul['segment'].str.contains(\"Preis-Leistungs-Empfehlung\", na=False), 'segment'] = \"Price-performance recommendation\"\n",
    "bike_jul.loc[bike_jul['segment'].str.contains(\"Leistungs-Empfehlung\", na=False), 'segment'] = \"Performance recommendation\"\n",
    "bike_jul['segment'] = bike_jul['segment'].fillna(\"None\")\n"
   ]
  },
  {
   "cell_type": "code",
   "execution_count": null,
   "id": "6bc24388-a7a8-452f-88c4-4388dfaab558",
   "metadata": {},
   "outputs": [],
   "source": [
    "column_values = bike_jul['segment']\n",
    "column_values"
   ]
  },
  {
   "cell_type": "code",
   "execution_count": null,
   "id": "e6a57a4d-6190-406d-b55f-035740dc7ba5",
   "metadata": {},
   "outputs": [],
   "source": [
    "bike_jul['month'] = 'July'\n",
    "\n",
    "#Rename the column name is \"Location\"\n",
    "bike_jul['location'] = bike_jul['location'].astype(str).replace({\"10405\": \"berlin\",\n",
    "                                                                 \"20253\": \"hamburg\",\n",
    "                                                                 \"27419\": \"lower saxony\",\n",
    "                                                                 \"34117\": \"hesse\",\n",
    "                                                                 \"50667\": \"north rhine-westphalia\",\n",
    "                                                                 \"51427\": \"north rhine-westphalia\",\n",
    "                                                                 \"80331\": \"bavaria\",\n",
    "                                                                 \"86480\": \"bayern\"})\n",
    "unique_locations = bike_jul['location'].unique()\n",
    "unique_locations\n",
    "#bike_jul"
   ]
  },
  {
   "cell_type": "code",
   "execution_count": null,
   "id": "a2e6f1a3-f6a0-47ef-b3f5-04cfc3aebe5a",
   "metadata": {},
   "outputs": [],
   "source": [
    "bike_jul = bike_jul.dropna(subset=['provider'])"
   ]
  },
  {
   "cell_type": "code",
   "execution_count": null,
   "id": "c102258c-e355-444c-9760-153fca32ac81",
   "metadata": {},
   "outputs": [],
   "source": [
    "bike_jul.isnull().sum()"
   ]
  },
  {
   "cell_type": "code",
   "execution_count": null,
   "id": "03dcfd65-589f-4083-95da-7b9dd58f4626",
   "metadata": {},
   "outputs": [],
   "source": [
    "bike_jul.shape"
   ]
  },
  {
   "cell_type": "code",
   "execution_count": null,
   "id": "fb4d9670-1809-49b5-950d-d353f7a90d67",
   "metadata": {},
   "outputs": [],
   "source": [
    "# Drop duplicates based on specific columns\n",
    "#bike_jul_no_duplicates = bike_jul.drop_duplicates(subset=['criteria', 'cost_of_bike', 'assistance', 'segment', 'rating', 'price', 'provider', 'rank', 'location', 'product_variant'])\n",
    "#Display the DataFrame without duplicates\n",
    "#print(bike_jul_no_duplicates)\n",
    "\n",
    "#duplicates = bike_jul[bike_jul.duplicated(subset=['criteria', 'cost_of_bike', 'assistance', 'segment', 'rating', 'price', 'provider', 'rank', 'location', 'product_variant', 'month'])]\n",
    "#duplicates"
   ]
  },
  {
   "cell_type": "code",
   "execution_count": null,
   "id": "f8b1b64e-673f-4f90-91cc-7106b8f2364e",
   "metadata": {},
   "outputs": [],
   "source": [
    "# Check for duplicate rows\n",
    "duplicate_count = bike_jul.duplicated().sum()\n",
    "duplicate_count\n",
    "#bike_jul.shape"
   ]
  },
  {
   "cell_type": "code",
   "execution_count": null,
   "id": "0eeb134f-e4de-4391-9357-d1b6beb7c79e",
   "metadata": {},
   "outputs": [],
   "source": [
    "bike_aug = pd.read_excel(r\"C:\\Users\\priya\\Documents\\IRONHACK\\Final_Project\\Bike_data_Aug_2023.xlsx\")\n",
    "bike_aug.head()\n"
   ]
  },
  {
   "cell_type": "code",
   "execution_count": null,
   "id": "36c0f760-9743-4659-b853-d989b6d727d6",
   "metadata": {},
   "outputs": [],
   "source": [
    "bike_aug = bike_aug.drop('Product_Category', axis=1)"
   ]
  },
  {
   "cell_type": "code",
   "execution_count": null,
   "id": "2203656d-ca53-4c71-85f5-fad7f2c39ab8",
   "metadata": {},
   "outputs": [],
   "source": [
    "column_mapping = {\n",
    "    'Criteria': 'criteria',\n",
    "    'Cost of Bike': 'cost_of_bike',\n",
    "    'Assistance': 'assistance',\n",
    "    'Segment': 'segment',\n",
    "    'Rating': 'rating',\n",
    "    'Price': 'price',\n",
    "    'Provider': 'provider',\n",
    "    'Rank (Sorted by price (Default)': 'rank',\n",
    "    'Postal Code': 'location',\n",
    "    'Product_Variant': 'product_variant'\n",
    "}\n",
    "bike_aug = bike_aug.rename(columns=column_mapping)"
   ]
  },
  {
   "cell_type": "code",
   "execution_count": null,
   "id": "044bb687-f1c4-47f8-aab5-55694b1bbac6",
   "metadata": {},
   "outputs": [],
   "source": [
    "#bike_aug.shape\n",
    "bike_aug.columns"
   ]
  },
  {
   "cell_type": "code",
   "execution_count": null,
   "id": "aeacd757-10ed-4fda-8ea6-cfc12483855d",
   "metadata": {},
   "outputs": [],
   "source": [
    "bike_aug.dtypes"
   ]
  },
  {
   "cell_type": "code",
   "execution_count": null,
   "id": "b2e06c76-11f7-4b8a-9369-7ae0b9a9d555",
   "metadata": {},
   "outputs": [],
   "source": [
    "bike_aug['location'] = bike_aug['location'].astype('object')"
   ]
  },
  {
   "cell_type": "code",
   "execution_count": null,
   "id": "1164afb8-ac39-4cce-a05c-1dbfdd2aa615",
   "metadata": {},
   "outputs": [],
   "source": [
    "# Assuming your DataFrame is called \"bike_jul\" and the column name is \"Segment\"\n",
    "bike_aug['segment'] = bike_aug['segment'].str.strip()\n",
    "unique_values = bike_aug['segment'].unique()\n",
    "print(unique_values)"
   ]
  },
  {
   "cell_type": "code",
   "execution_count": null,
   "id": "81cb98aa-9515-4731-be77-20495227ad4c",
   "metadata": {},
   "outputs": [],
   "source": [
    "# Assuming your DataFrame is called \"bike_jul\" and the column name is \"Segment\"\n",
    "bike_aug.loc[bike_aug['segment'].str.contains(\"Preis-Leistungs-Empfehlung\", na=False), 'segment'] = \"Price-performance recommendation\"\n",
    "bike_aug.loc[bike_aug['segment'].str.contains(\"Leistungs-Empfehlung\", na=False), 'segment'] = \"Performance recommendation\"\n",
    "bike_aug['segment'] = bike_aug['segment'].fillna(\"None\")\n"
   ]
  },
  {
   "cell_type": "code",
   "execution_count": null,
   "id": "bc9604e7-b887-4e41-9582-80921833689c",
   "metadata": {},
   "outputs": [],
   "source": [
    "column_values = bike_aug['segment']\n",
    "column_values"
   ]
  },
  {
   "cell_type": "code",
   "execution_count": null,
   "id": "de062a40-92ab-4247-a540-ab69c8e18799",
   "metadata": {},
   "outputs": [],
   "source": [
    "bike_aug['month'] = 'August'\n",
    "\n",
    "#Rename the column name is \"Location\"\n",
    "bike_aug['location'] = bike_aug['location'].astype(str).replace({\"10405\": \"berlin\",\n",
    "                                                                 \"20253\": \"hamburg\",\n",
    "                                                                 \"27419\": \"lower saxony\",\n",
    "                                                                 \"34117\": \"hesse\",\n",
    "                                                                 \"50667\": \"north rhine-westphalia\",\n",
    "                                                                 \"51427\": \"north rhine-westphalia\",\n",
    "                                                                 \"80331\": \"bavaria\",\n",
    "                                                                 \"86480\": \"bayern\"})\n",
    "unique_locations = bike_aug['location'].unique()\n",
    "unique_locations"
   ]
  },
  {
   "cell_type": "code",
   "execution_count": null,
   "id": "f6d6bc49-0fbf-4f93-84fc-bbaa42d3ab88",
   "metadata": {},
   "outputs": [],
   "source": [
    "#bike_aug = bike_jul.dropna(subset=['provider'])\n",
    "bike_aug.isnull().sum()"
   ]
  },
  {
   "cell_type": "code",
   "execution_count": null,
   "id": "48549ded-b2eb-49a6-9687-88f04a642047",
   "metadata": {},
   "outputs": [],
   "source": [
    "# Check for duplicate rows\n",
    "duplicate_count = bike_aug.duplicated().sum()\n",
    "duplicate_count\n",
    "#bike_jul.shape"
   ]
  },
  {
   "cell_type": "code",
   "execution_count": null,
   "id": "f21d9877-5d0e-4713-9bec-ad99d9902da2",
   "metadata": {},
   "outputs": [],
   "source": [
    "bike_sep = pd.read_excel(r\"C:\\Users\\priya\\Documents\\IRONHACK\\Final_Project\\Bike_data_Sep_2023.xlsx\")\n",
    "bike_sep.head()"
   ]
  },
  {
   "cell_type": "code",
   "execution_count": null,
   "id": "6eb02c09-2eb2-47de-aa15-782684dc734a",
   "metadata": {},
   "outputs": [],
   "source": [
    "bike_sep = bike_sep.drop('Product_Category', axis=1)"
   ]
  },
  {
   "cell_type": "code",
   "execution_count": null,
   "id": "8b86b891-b514-4af2-bf02-8e0666f31b26",
   "metadata": {},
   "outputs": [],
   "source": [
    "column_mapping = {\n",
    "    'Criteria': 'criteria',\n",
    "    'Cost of Bike': 'cost_of_bike',\n",
    "    'Assistance': 'assistance',\n",
    "    'Segment': 'segment',\n",
    "    'Rating': 'rating',\n",
    "    'Price': 'price',\n",
    "    'Provider': 'provider',\n",
    "    'Rank (Sorted by price (Default)': 'rank',\n",
    "    'Postal Code': 'location',\n",
    "    'Product_Variant': 'product_variant'\n",
    "}\n",
    "bike_sep = bike_sep.rename(columns=column_mapping)"
   ]
  },
  {
   "cell_type": "code",
   "execution_count": null,
   "id": "06bfd50c-ad7e-44d0-9275-57d380cf37cc",
   "metadata": {},
   "outputs": [],
   "source": [
    "bike_sep.columns"
   ]
  },
  {
   "cell_type": "code",
   "execution_count": null,
   "id": "4cdb7d0f-f1a6-453b-a5fb-bbad57c9d350",
   "metadata": {},
   "outputs": [],
   "source": [
    "bike_sep.dtypes"
   ]
  },
  {
   "cell_type": "code",
   "execution_count": null,
   "id": "93c6ba07-93a6-4e7d-88b1-7206a00d760f",
   "metadata": {},
   "outputs": [],
   "source": [
    "bike_sep['location'] = bike_sep['location'].astype('object')"
   ]
  },
  {
   "cell_type": "code",
   "execution_count": null,
   "id": "e38da24a-f41f-42eb-920a-a5c8a8b6ed42",
   "metadata": {},
   "outputs": [],
   "source": [
    "# Assuming your DataFrame is called \"bike_jul\" and the column name is \"Segment\"\n",
    "bike_sep['segment'] = bike_sep['segment'].str.strip()\n",
    "unique_values = bike_sep['segment'].unique()\n",
    "print(unique_values)"
   ]
  },
  {
   "cell_type": "code",
   "execution_count": null,
   "id": "a9d7973b-768f-4782-b5e4-3725055de9b4",
   "metadata": {},
   "outputs": [],
   "source": [
    "# Assuming your DataFrame is called \"bike_jul\" and the column name is \"Segment\"\n",
    "bike_sep.loc[bike_sep['segment'].str.contains(\"Preis-Leistungs-Empfehlung\", na=False), 'segment'] = \"Price-performance recommendation\"\n",
    "bike_sep.loc[bike_sep['segment'].str.contains(\"Leistungs-Empfehlung\", na=False), 'segment'] = \"Performance recommendation\"\n",
    "bike_sep['segment'] = bike_sep['segment'].fillna(\"None\")\n"
   ]
  },
  {
   "cell_type": "code",
   "execution_count": null,
   "id": "3d156d9b-17d5-46d7-8eb0-1dbaf245ecc9",
   "metadata": {},
   "outputs": [],
   "source": [
    "column_values = bike_sep['segment']\n",
    "column_values"
   ]
  },
  {
   "cell_type": "code",
   "execution_count": null,
   "id": "2216ff44-d5a0-42e7-8a8e-473da2acbc86",
   "metadata": {},
   "outputs": [],
   "source": [
    "bike_sep['month'] = 'September'\n",
    "\n",
    "#Rename the column name is \"Location\"\n",
    "bike_sep['location'] = bike_sep['location'].astype(str).replace({\"10405\": \"berlin\",\n",
    "                                                                 \"20253\": \"hamburg\",\n",
    "                                                                 \"27419\": \"lower saxony\",\n",
    "                                                                 \"34117\": \"hesse\",\n",
    "                                                                 \"50667\": \"north rhine-westphalia\",\n",
    "                                                                 \"51427\": \"north rhine-westphalia\",\n",
    "                                                                 \"80331\": \"bavaria\",\n",
    "                                                                 \"86480\": \"bayern\"})\n",
    "unique_locations = bike_sep['location'].unique()\n",
    "unique_locations"
   ]
  },
  {
   "cell_type": "code",
   "execution_count": null,
   "id": "16079748-7c83-4d01-83ec-dea454386cab",
   "metadata": {},
   "outputs": [],
   "source": [
    "bike_sep.isnull().sum()"
   ]
  },
  {
   "cell_type": "code",
   "execution_count": null,
   "id": "8bae8252-4965-46d3-b56d-668d6aba5ce7",
   "metadata": {},
   "outputs": [],
   "source": [
    "# Check for duplicate rows\n",
    "duplicate_count = bike_sep.duplicated().sum()\n",
    "duplicate_count\n",
    "#bike_jul.shape"
   ]
  },
  {
   "cell_type": "code",
   "execution_count": null,
   "id": "06c27946-7c7e-49e7-9b7a-a7e74247359a",
   "metadata": {},
   "outputs": [],
   "source": [
    "bike_oct = pd.read_excel(r\"C:\\Users\\priya\\Documents\\IRONHACK\\Final_Project\\Bike_data_Oct_2023.xlsx\")\n",
    "bike_oct.head()"
   ]
  },
  {
   "cell_type": "code",
   "execution_count": null,
   "id": "acee2e56-cf98-4cdb-87ee-0d8348a3f586",
   "metadata": {},
   "outputs": [],
   "source": [
    "bike_oct = bike_oct.drop('Product_Category', axis=1)"
   ]
  },
  {
   "cell_type": "code",
   "execution_count": null,
   "id": "d65e8bf2-70f1-4c13-bca0-dd8703e3c48a",
   "metadata": {},
   "outputs": [],
   "source": [
    "column_mapping = {\n",
    "    'Criteria': 'criteria',\n",
    "    'Cost of Bike': 'cost_of_bike',\n",
    "    'Assistance': 'assistance',\n",
    "    'Segment': 'segment',\n",
    "    'Rating': 'rating',\n",
    "    'Price': 'price',\n",
    "    'Provider': 'provider',\n",
    "    'Rank (Sorted by price (Default)': 'rank',\n",
    "    'Postal Code': 'location',\n",
    "    'Product_Variant': 'product_variant'\n",
    "}\n",
    "bike_oct = bike_oct.rename(columns=column_mapping)"
   ]
  },
  {
   "cell_type": "code",
   "execution_count": null,
   "id": "bc500e00-5cf8-4f76-b0cb-0d388106a8ab",
   "metadata": {},
   "outputs": [],
   "source": [
    "bike_oct.columns"
   ]
  },
  {
   "cell_type": "code",
   "execution_count": null,
   "id": "1ebf874e-a7ce-48b6-9b72-ceef34253326",
   "metadata": {},
   "outputs": [],
   "source": [
    "bike_oct.dtypes"
   ]
  },
  {
   "cell_type": "code",
   "execution_count": null,
   "id": "fc78724b-b3ff-4d7a-8f9e-129c7cf638f9",
   "metadata": {},
   "outputs": [],
   "source": [
    "bike_oct['location'] = bike_oct['location'].astype('object')"
   ]
  },
  {
   "cell_type": "code",
   "execution_count": null,
   "id": "150bb49f-96a9-499d-af22-46d675bd8625",
   "metadata": {},
   "outputs": [],
   "source": [
    "# Assuming your DataFrame is called \"bike_jul\" and the column name is \"Segment\"\n",
    "bike_oct['segment'] = bike_oct['segment'].str.strip()\n",
    "unique_values = bike_oct['segment'].unique()\n",
    "print(unique_values)"
   ]
  },
  {
   "cell_type": "code",
   "execution_count": null,
   "id": "76e5e9a5-37c4-431a-a990-a9e7265fb8dc",
   "metadata": {},
   "outputs": [],
   "source": [
    "# Assuming your DataFrame is called \"bike_jul\" and the column name is \"Segment\"\n",
    "bike_oct.loc[bike_oct['segment'].str.contains(\"Preis-Leistungs-Empfehlung\", na=False), 'segment'] = \"Price-performance recommendation\"\n",
    "bike_oct.loc[bike_oct['segment'].str.contains(\"Leistungs-Empfehlung\", na=False), 'segment'] = \"Performance recommendation\"\n",
    "bike_oct['segment'] = bike_oct['segment'].fillna(\"None\")"
   ]
  },
  {
   "cell_type": "code",
   "execution_count": null,
   "id": "a62578ec-167f-4418-a2dd-74a8b31930ff",
   "metadata": {},
   "outputs": [],
   "source": [
    "column_values = bike_oct['segment']\n",
    "column_values"
   ]
  },
  {
   "cell_type": "code",
   "execution_count": null,
   "id": "fafd354f-4d5b-4d9e-8a5c-4afd9c40ce81",
   "metadata": {},
   "outputs": [],
   "source": [
    "bike_oct['month'] = 'October'\n",
    "\n",
    "#Rename the column name is \"Location\"\n",
    "bike_oct['location'] = bike_oct['location'].astype(str).replace({\"10405\": \"berlin\",\n",
    "                                                                 \"20253\": \"hamburg\",\n",
    "                                                                 \"27419\": \"lower saxony\",\n",
    "                                                                 \"34117\": \"hesse\",\n",
    "                                                                 \"50667\": \"north rhine-westphalia\",\n",
    "                                                                 \"51427\": \"north rhine-westphalia\",\n",
    "                                                                 \"80331\": \"bavaria\",\n",
    "                                                                 \"86480\": \"bayern\"})\n",
    "unique_locations = bike_oct['location'].unique()\n",
    "unique_locations"
   ]
  },
  {
   "cell_type": "code",
   "execution_count": null,
   "id": "6de9ba5f-ac39-44cf-9c7c-7b7afa0d6646",
   "metadata": {},
   "outputs": [],
   "source": [
    "bike_oct.isnull().sum()"
   ]
  },
  {
   "cell_type": "code",
   "execution_count": null,
   "id": "033dc988-43d8-4f9e-ba90-fdd0a55edeb8",
   "metadata": {},
   "outputs": [],
   "source": [
    "# Check for duplicate rows\n",
    "duplicate_count = bike_oct.duplicated().sum()\n",
    "duplicate_count\n",
    "#bike_jul.shape"
   ]
  },
  {
   "cell_type": "code",
   "execution_count": null,
   "id": "1a2d929f-c584-4d0b-a06a-9f0d545b602d",
   "metadata": {},
   "outputs": [],
   "source": [
    "bike_nov = pd.read_excel(r\"C:\\Users\\priya\\Documents\\IRONHACK\\Final_Project\\Bike_data_Nov_2023.xlsx\")\n",
    "bike_nov.head()"
   ]
  },
  {
   "cell_type": "code",
   "execution_count": null,
   "id": "3b63c0ba-1f3f-40ce-96e8-55bd2be333c2",
   "metadata": {},
   "outputs": [],
   "source": [
    "bike_nov = bike_nov.drop('Product_Category', axis=1)"
   ]
  },
  {
   "cell_type": "code",
   "execution_count": null,
   "id": "b62ae701-33fe-40c5-a787-fe428c239659",
   "metadata": {},
   "outputs": [],
   "source": [
    "column_mapping = {\n",
    "    'Criteria': 'criteria',\n",
    "    'Cost of Bike': 'cost_of_bike',\n",
    "    'Assistance': 'assistance',\n",
    "    'Segment': 'segment',\n",
    "    'Rating': 'rating',\n",
    "    'Price': 'price',\n",
    "    'Provider': 'provider',\n",
    "    'Rank (Sorted by price (Default)': 'rank',\n",
    "    'Postal Code': 'location',\n",
    "    'Product_Variant': 'product_variant'\n",
    "}\n",
    "bike_nov = bike_nov.rename(columns=column_mapping)"
   ]
  },
  {
   "cell_type": "code",
   "execution_count": null,
   "id": "e0d28b0f-552f-432b-9a60-aed8eb08e123",
   "metadata": {},
   "outputs": [],
   "source": [
    "bike_nov.columns"
   ]
  },
  {
   "cell_type": "code",
   "execution_count": null,
   "id": "40ccd107-2dc9-4ad0-9f99-fd5e16a8f268",
   "metadata": {},
   "outputs": [],
   "source": [
    "bike_nov.dtypes"
   ]
  },
  {
   "cell_type": "code",
   "execution_count": null,
   "id": "fcbd4e5b-b051-4146-8b79-d03fe7301a43",
   "metadata": {},
   "outputs": [],
   "source": [
    "bike_nov['location'] = bike_nov['location'].astype('object')"
   ]
  },
  {
   "cell_type": "code",
   "execution_count": null,
   "id": "ab9587aa-35a5-4ead-bfb2-c49628ba44cc",
   "metadata": {},
   "outputs": [],
   "source": [
    "# Assuming your DataFrame is called \"bike_jul\" and the column name is \"Segment\"\n",
    "bike_nov['segment'] = bike_nov['segment'].str.strip()\n",
    "unique_values = bike_nov['segment'].unique()\n",
    "print(unique_values)"
   ]
  },
  {
   "cell_type": "code",
   "execution_count": null,
   "id": "d0d2ff65-6c4d-4fb4-b553-f6d2aa853911",
   "metadata": {},
   "outputs": [],
   "source": [
    "# Assuming your DataFrame is called \"bike_jul\" and the column name is \"Segment\"\n",
    "bike_nov.loc[bike_nov['segment'].str.contains(\"Preis-Leistungs-Empfehlung\", na=False), 'segment'] = \"Price-performance recommendation\"\n",
    "bike_nov.loc[bike_nov['segment'].str.contains(\"Leistungs-Empfehlung\", na=False), 'segment'] = \"Performance recommendation\"\n",
    "bike_nov['segment'] = bike_nov['segment'].fillna(\"None\")"
   ]
  },
  {
   "cell_type": "code",
   "execution_count": null,
   "id": "1740e53d-aabb-4711-85b9-49aa371a596b",
   "metadata": {},
   "outputs": [],
   "source": [
    "column_values = bike_nov['segment']\n",
    "column_values"
   ]
  },
  {
   "cell_type": "code",
   "execution_count": null,
   "id": "e6a1b202-6340-4bbc-b9d4-5c8168759e61",
   "metadata": {},
   "outputs": [],
   "source": [
    "bike_nov['month'] = 'November'\n",
    "\n",
    "#Rename the column name is \"Location\"\n",
    "bike_nov['location'] = bike_nov['location'].astype(str).replace({\"10405\": \"berlin\",\n",
    "                                                                 \"20253\": \"hamburg\",\n",
    "                                                                 \"27419\": \"lower saxony\",\n",
    "                                                                 \"34117\": \"hesse\",\n",
    "                                                                 \"50667\": \"north rhine-westphalia\",\n",
    "                                                                 \"51427\": \"north rhine-westphalia\",\n",
    "                                                                 \"80331\": \"bavaria\",\n",
    "                                                                 \"86480\": \"bayern\"})\n",
    "unique_locations = bike_nov['location'].unique()\n",
    "unique_locations"
   ]
  },
  {
   "cell_type": "code",
   "execution_count": null,
   "id": "a6d82210-8207-4753-9ef8-5e590bf448fc",
   "metadata": {},
   "outputs": [],
   "source": [
    "bike_nov.isnull().sum()"
   ]
  },
  {
   "cell_type": "code",
   "execution_count": null,
   "id": "885201ef-9e76-44b0-98aa-579d460ac73a",
   "metadata": {},
   "outputs": [],
   "source": [
    "# Check for duplicate rows\n",
    "duplicate_count = bike_nov.duplicated().sum()\n",
    "duplicate_count\n"
   ]
  },
  {
   "cell_type": "code",
   "execution_count": null,
   "id": "d13d8f9d-a73f-49b6-b52a-d3c26976789d",
   "metadata": {},
   "outputs": [],
   "source": [
    "bike_nov.shape"
   ]
  },
  {
   "cell_type": "code",
   "execution_count": null,
   "id": "d37d7c47-38cc-4e92-a9a4-684306811651",
   "metadata": {},
   "outputs": [],
   "source": [
    "df_concat = pd.concat([bike_jul, bike_aug, bike_sep, bike_oct, bike_nov], axis=0)\n",
    "df_concat"
   ]
  },
  {
   "cell_type": "code",
   "execution_count": null,
   "id": "d68e33a6-a5f1-47af-a2b6-e55970f767cf",
   "metadata": {},
   "outputs": [],
   "source": [
    "df_concat.isnull().sum()"
   ]
  },
  {
   "cell_type": "code",
   "execution_count": null,
   "id": "8b096537-6e90-45b2-8c34-5af5d6d92165",
   "metadata": {},
   "outputs": [],
   "source": [
    "#unique_values = df_concat['month'].unique()\n",
    "#unique_values"
   ]
  },
  {
   "cell_type": "code",
   "execution_count": null,
   "id": "73648ada-dfe7-4f67-8198-d2369d0d82b9",
   "metadata": {},
   "outputs": [],
   "source": [
    "# Check for duplicate rows\n",
    "#duplicate_count = df_concat.duplicated().sum()\n",
    "#duplicate_count\n",
    "\n",
    "drop_duplicate = df_concat.drop_duplicates().reset_index(drop=True)\n",
    "drop_duplicate\n",
    "\n",
    "\n"
   ]
  },
  {
   "cell_type": "code",
   "execution_count": null,
   "id": "c42263f0-76de-4821-8d4e-f4ae05108e30",
   "metadata": {},
   "outputs": [],
   "source": [
    "cleaned_df = df_concat.drop_duplicates()\n",
    "cleaned_df.shape"
   ]
  },
  {
   "cell_type": "code",
   "execution_count": null,
   "id": "8d54080b-523f-43f9-a32f-54106dc506e1",
   "metadata": {},
   "outputs": [],
   "source": [
    "cleaned_df.to_csv('cleaned_df.csv', index=False)"
   ]
  },
  {
   "cell_type": "code",
   "execution_count": null,
   "id": "295c0bb5-9b28-4431-bb6a-9c487a1ee2ba",
   "metadata": {},
   "outputs": [],
   "source": [
    "custom_values = cleaned_df['segment']\n",
    "custom_values"
   ]
  },
  {
   "cell_type": "code",
   "execution_count": null,
   "id": "4d91f4a6-767e-4ce2-8807-d789084e7ade",
   "metadata": {},
   "outputs": [],
   "source": [
    "cleaned_df"
   ]
  },
  {
   "cell_type": "markdown",
   "id": "4d579c2f-d266-4f33-881f-23e61bc6092a",
   "metadata": {},
   "source": [
    "# EDA"
   ]
  },
  {
   "cell_type": "code",
   "execution_count": null,
   "id": "2e5f9c47-a972-415f-91fa-a2e616c2b069",
   "metadata": {},
   "outputs": [],
   "source": [
    "cleaned_df.describe()"
   ]
  },
  {
   "cell_type": "code",
   "execution_count": null,
   "id": "7b7cb338-cbdd-4f66-9863-db3dc8359db1",
   "metadata": {},
   "outputs": [],
   "source": [
    "\n"
   ]
  },
  {
   "cell_type": "code",
   "execution_count": null,
   "id": "bde6cf52-f211-4924-9458-586655cfdd31",
   "metadata": {},
   "outputs": [],
   "source": []
  },
  {
   "cell_type": "code",
   "execution_count": null,
   "id": "e50cf383-e64a-4b33-b36e-75ba536ed1e2",
   "metadata": {},
   "outputs": [],
   "source": []
  },
  {
   "cell_type": "code",
   "execution_count": null,
   "id": "71801d1d-521b-4ce9-a9b3-44791d86e5f2",
   "metadata": {},
   "outputs": [],
   "source": []
  },
  {
   "cell_type": "code",
   "execution_count": null,
   "id": "6fe65f4e-7139-473c-a380-cf2469b70bd1",
   "metadata": {},
   "outputs": [],
   "source": []
  },
  {
   "cell_type": "code",
   "execution_count": null,
   "id": "b4fe64f7-d7e5-4c41-abba-8cab5a7d5c1b",
   "metadata": {},
   "outputs": [],
   "source": []
  },
  {
   "cell_type": "code",
   "execution_count": null,
   "id": "33e127cb-99ff-4721-9898-912bd84d9155",
   "metadata": {},
   "outputs": [],
   "source": []
  }
 ],
 "metadata": {
  "kernelspec": {
   "display_name": "venv",
   "language": "python",
   "name": "venv"
  },
  "language_info": {
   "codemirror_mode": {
    "name": "ipython",
    "version": 3
   },
   "file_extension": ".py",
   "mimetype": "text/x-python",
   "name": "python",
   "nbconvert_exporter": "python",
   "pygments_lexer": "ipython3",
   "version": "3.11.5"
  }
 },
 "nbformat": 4,
 "nbformat_minor": 5
}
