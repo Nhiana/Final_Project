{
 "cells": [
  {
   "cell_type": "code",
   "execution_count": null,
   "id": "af025e37-61ab-4119-85e5-ade0b48f18ff",
   "metadata": {},
   "outputs": [],
   "source": [
    "import pandas as pd\n",
    "import numpy as np\n",
    "import matplotlib.pyplot as plt\n",
    "import seaborn as sns\n",
    "from scipy.stats import skew\n",
    "\n"
   ]
  },
  {
   "cell_type": "code",
   "execution_count": null,
   "id": "479cf7bc-cc48-46ec-a600-cd99837c8267",
   "metadata": {},
   "outputs": [],
   "source": [
    "cleaned_df = pd.read_csv('cleaned_df.csv', na_filter=False)\n",
    "cleaned_df"
   ]
  },
  {
   "cell_type": "markdown",
   "id": "ea94df3d-24ec-4c0b-8384-85570105641b",
   "metadata": {},
   "source": [
    "## Explore the dataset to understand the distribution of data and identify any outliers."
   ]
  },
  {
   "cell_type": "code",
   "execution_count": null,
   "id": "fe62336f-18c8-48c7-bd9c-d8fe828fe270",
   "metadata": {},
   "outputs": [],
   "source": [
    "# Visualize the distribution of numerical columns\n",
    "numerical_columns = cleaned_df.select_dtypes(include=['int64', 'float64']).columns\n",
    "for column in numerical_columns:\n",
    "    plt.figure(figsize=(4, 2))\n",
    "    sns.histplot(cleaned_df[column], kde=True, bins=20, color='skyblue')\n",
    "    plt.title(f'Distribution of {column}')\n",
    "    plt.show()\n",
    "\n"
   ]
  },
  {
   "cell_type": "code",
   "execution_count": null,
   "id": "f77c1777-e884-4a0a-868e-4ab807e37e35",
   "metadata": {},
   "outputs": [],
   "source": [
    "# Compute skewness for each numerical column\n",
    "skewness_results = pd.DataFrame(columns=['Column', 'Skewness'])\n",
    "for column in numerical_columns:\n",
    "    skewness = skew(cleaned_df[column])\n",
    "    skewness_results = pd.concat([skewness_results, pd.DataFrame({'Column': [column], 'Skewness': [skewness]})], ignore_index=True)\n",
    "\n",
    "# Display the computed skewness\n",
    "print(skewness_results)"
   ]
  },
  {
   "cell_type": "markdown",
   "id": "0d3eaf6b-20b8-457e-a5ba-ed21b2825b45",
   "metadata": {},
   "source": [
    "#Insights:\r\n",
    "\r\n",
    "Columns with skewness valu 0.59 and 0.095] are'cost_of_bike' and 'rank'n.'rating' and 'price'ount- skewness values indicate an asymetrical distribution"
   ]
  },
  {
   "cell_type": "code",
   "execution_count": null,
   "id": "4f409e49-b979-4187-9e23-ff8824250fe7",
   "metadata": {},
   "outputs": [],
   "source": [
    "from statsmodels.stats.outliers_influence import variance_inflation_factor\n",
    "\n",
    "# Assuming 'cleaned_df' is your DataFrame with numerical variables\n",
    "numerical_columns = cleaned_df.select_dtypes(include=['int64', 'float64']).columns\n",
    "\n",
    "# Create a DataFrame to store VIF results\n",
    "vif_data = pd.DataFrame()\n",
    "vif_data[\"Variable\"] = numerical_columns\n",
    "\n",
    "# Calculate VIF for each variable\n",
    "vif_data[\"VIF\"] = [variance_inflation_factor(cleaned_df[numerical_columns].values, i) for i in range(len(numerical_columns))]\n",
    "\n",
    "# Display the VIF results\n",
    "display(vif_data)\n"
   ]
  },
  {
   "cell_type": "code",
   "execution_count": null,
   "id": "bc7d9ff9-37fb-49b0-8d35-024d82451018",
   "metadata": {},
   "outputs": [],
   "source": [
    "numerical_columns = cleaned_df.select_dtypes(include=['int64', 'float64']).columns\n",
    "\n",
    "# Calculate the correlation matrix\n",
    "correlation_matrix = cleaned_df[numerical_columns].corr()\n",
    "\n",
    "# Create a heatmap\n",
    "plt.figure(figsize=(10, 8))\n",
    "sns.heatmap(correlation_matrix, annot=True, cmap='coolwarm', fmt=\".2f\", linewidths=.5)\n",
    "plt.title(\"Correlation Matrix\")\n",
    "plt.show()"
   ]
  },
  {
   "cell_type": "code",
   "execution_count": null,
   "id": "97f0cc66-0deb-4476-9240-95f9911d7896",
   "metadata": {},
   "outputs": [],
   "source": [
    "# Visualize box plots to identify outliers\n",
    "for column in numerical_columns:\n",
    "    plt.figure(figsize=(8, 6))\n",
    "    sns.boxplot(x=cleaned_df[column], color='lightcoral')\n",
    "    plt.title(f'Box Plot of {column}')\n",
    "    plt.show()"
   ]
  },
  {
   "cell_type": "code",
   "execution_count": null,
   "id": "b95c5adf-af6d-46e8-9f43-a1c49f7e02c1",
   "metadata": {},
   "outputs": [],
   "source": [
    "# Assuming 'cost_of_bike' is the column you want to transform\n",
    "cleaned_df['cost_of_bike_log'] = np.log1p(cleaned_df['cost_of_bike'])\n",
    "\n",
    "# Plot the original and transformed data to observe the effect\n",
    "plt.figure(figsize=(12, 6))\n",
    "\n",
    "# Original data\n",
    "plt.subplot(1, 2, 1)\n",
    "sns.histplot(cleaned_df['cost_of_bike'], kde=True, color='skyblue')\n",
    "plt.title('Original Distribution')\n",
    "\n",
    "# Transformed data\n",
    "plt.subplot(1, 2, 2)\n",
    "sns.histplot(cleaned_df['cost_of_bike_log'], kde=True, color='lightcoral')\n",
    "plt.title('Log-transformed Distribution')\n",
    "\n",
    "plt.show()"
   ]
  },
  {
   "cell_type": "code",
   "execution_count": null,
   "id": "efc4e833-bf5a-4047-8699-e560b6e3cab2",
   "metadata": {},
   "outputs": [],
   "source": [
    "# Assuming 'rating' is the column you want to transform\n",
    "cleaned_df['rating_log'] = np.log1p(cleaned_df['rating'])\n",
    "\n",
    "# Plot the original and transformed data to observe the effect\n",
    "plt.figure(figsize=(12, 6))\n",
    "\n",
    "# Original data\n",
    "plt.subplot(1, 2, 1)\n",
    "sns.histplot(cleaned_df['rating'], kde=True, color='skyblue')\n",
    "plt.title('Original Distribution - Rating')\n",
    "\n",
    "# Transformed data\n",
    "plt.subplot(1, 2, 2)\n",
    "sns.histplot(cleaned_df['rating_log'], kde=True, color='lightcoral')\n",
    "plt.title('Log-transformed Distribution - Rating')\n",
    "\n",
    "plt.show()"
   ]
  },
  {
   "cell_type": "code",
   "execution_count": null,
   "id": "4423f086-0a1f-4f9b-bf0d-9304f07b5588",
   "metadata": {},
   "outputs": [],
   "source": [
    "# Assuming 'price' is the column you want to transform\n",
    "cleaned_df['price_log'] = np.log1p(cleaned_df['price'])\n",
    "\n",
    "# Plot the original and transformed data to observe the effect\n",
    "plt.figure(figsize=(12, 6))\n",
    "\n",
    "# Original data\n",
    "plt.subplot(1, 2, 1)\n",
    "sns.histplot(cleaned_df['price'], kde=True, color='skyblue')\n",
    "plt.title('Original Distribution - Price')\n",
    "\n",
    "# Transformed data\n",
    "plt.subplot(1, 2, 2)\n",
    "sns.histplot(cleaned_df['price_log'], kde=True, color='lightcoral')\n",
    "plt.title('Log-transformed Distribution - Price')\n",
    "\n",
    "plt.show()"
   ]
  },
  {
   "cell_type": "markdown",
   "id": "025e5acc-4f0d-4a31-8a33-2cecd5d61b48",
   "metadata": {},
   "source": [
    "#Top 5 Providers Based on Total Counts Across 3 Segments:"
   ]
  },
  {
   "cell_type": "code",
   "execution_count": null,
   "id": "13bcf557-d75b-422e-8de4-9995d08de612",
   "metadata": {},
   "outputs": [],
   "source": [
    "# Filter rows with the three specified segments\n",
    "filtered_df = cleaned_df[cleaned_df['segment'].isin(['Cheap', 'Price-performance recommendation', 'Performance recommendation'])]\n",
    "\n",
    "# Group by 'Provider' and 'Segment' and calculate the count of bikes\n",
    "provider_segment_counts = filtered_df.groupby(['provider', 'segment']).size().unstack(fill_value=0)\n",
    "\n",
    "# Calculate the total count for each provider across the three segments\n",
    "provider_total_counts = provider_segment_counts.sum(axis=1)\n",
    "\n",
    "# Sort providers based on total counts in descending order and get the top 5\n",
    "top_5_providers = provider_total_counts.sort_values(ascending=False).head(5)\n",
    "\n",
    "# Display the top 5 providers and their total counts\n",
    "print(\"Top 5 Providers Based on Total Counts Across 3 Segments:\")\n",
    "display(top_5_providers)\n",
    "\n",
    "# Display the detailed analysis for the top 5 providers across the three segments\n",
    "top_5_provider_details = provider_segment_counts.loc[top_5_providers.index]\n",
    "print(\"\\nDetailed Analysis for Top 5 Providers Across 3 Segments:\")\n",
    "display(top_5_provider_details)"
   ]
  },
  {
   "cell_type": "code",
   "execution_count": null,
   "id": "f96a105b-103c-49e6-92f9-bddeef51a197",
   "metadata": {},
   "outputs": [],
   "source": [
    "# Plotting the bar chart\n",
    "top_5_providers.plot(kind='bar', color='magenta')\n",
    "plt.xlabel('Provider')\n",
    "plt.ylabel('Total Counts Across 3 Segments')\n",
    "plt.title('Top 5 Providers Based on Total Counts Across 3 Segments')\n",
    "plt.show()"
   ]
  },
  {
   "cell_type": "code",
   "execution_count": null,
   "id": "dace557c-d06f-4721-8c9e-0900ca30156a",
   "metadata": {},
   "outputs": [],
   "source": [
    "# Plotting the stacked bar chart\n",
    "top_5_provider_details.plot(kind='bar', stacked=True, colormap='viridis')\n",
    "plt.xlabel('Provider')\n",
    "plt.ylabel('Counts')\n",
    "plt.title('Detailed Analysis for Top 5 Providers Across 3 Segments')\n",
    "plt.legend(title='Segment', bbox_to_anchor=(1.05, 1), loc='upper left')\n",
    "plt.show()"
   ]
  },
  {
   "cell_type": "markdown",
   "id": "a71ec568-8956-47e1-b36c-f539d1b0ac20",
   "metadata": {},
   "source": [
    "#Top 5 providers based on the three specified segments (\"Cheap\", \"Price-performance recommendation\", and \"Performance recommendation\") specifically for E-bikes"
   ]
  },
  {
   "cell_type": "code",
   "execution_count": null,
   "id": "60f58812-c1ad-46ba-b622-5546fc29a496",
   "metadata": {},
   "outputs": [],
   "source": [
    "# Filter rows for E-bikes\n",
    "ebikes_df = cleaned_df[cleaned_df['criteria'] == 'E-Bike']\n",
    "\n",
    "# Filter rows with the three specified segments\n",
    "filtered_ebikes_df = ebikes_df[ebikes_df['segment'].isin(['Cheap', 'Price-performance recommendation', 'Performance recommendation'])]\n",
    "\n",
    "# Group by 'Provider' and 'Segment' and calculate the count of E-bikes\n",
    "provider_segment_counts_ebikes = filtered_ebikes_df.groupby(['provider', 'segment']).size().unstack(fill_value=0)\n",
    "\n",
    "# Calculate the total count for each provider across the three segments for E-bikes\n",
    "provider_total_counts_ebikes = provider_segment_counts_ebikes.sum(axis=1)\n",
    "\n",
    "# Sort providers based on total counts for E-bikes in descending order and get the top 5\n",
    "top_5_providers_ebikes = provider_total_counts_ebikes.sort_values(ascending=False).head(5)\n",
    "\n",
    "# Display the top 5 providers for E-bikes and their total counts\n",
    "print(\"Top 5 Providers Based on Total Counts Across 3 Segments for E-bikes:\")\n",
    "display(top_5_providers_ebikes)\n",
    "\n",
    "# Display the detailed analysis for the top 5 providers across the three segments for E-bikes\n",
    "top_5_provider_details_ebikes = provider_segment_counts_ebikes.loc[top_5_providers_ebikes.index]\n",
    "print(\"\\nDetailed Analysis for Top 5 Providers Across 3 Segments for E-bikes:\")\n",
    "display(top_5_provider_details_ebikes)\n"
   ]
  },
  {
   "cell_type": "code",
   "execution_count": null,
   "id": "e04ee7ef-d634-43f4-9efb-b4e70e4b6319",
   "metadata": {},
   "outputs": [],
   "source": [
    "top_5_providers_ebikes = {\n",
    "    'Schutzgarant': 1189,\n",
    "    'Janitos': 890,\n",
    "    'Ammerländer': 347,\n",
    "    'Neodigital': 154,\n",
    "    'Adam Riese': 100\n",
    "}\n",
    "\n",
    "# Plotting the bar chart for top_5_providers based on total counts Across 3 Segments for E-bikes\n",
    "fig, ax = plt.subplots()\n",
    "bars = ax.bar(top_5_providers_ebikes.keys(), top_5_providers_ebikes.values(), color='skyblue')\n",
    "\n",
    "plt.xlabel('Provider')\n",
    "plt.ylabel('Total Counts for E-bikes')\n",
    "plt.title('Top 5 Providers for E-bikes Based on Total Counts Across 3 Segments')\n",
    "\n",
    "# Adding numbers on top of each bar\n",
    "for bar, count in zip(bars, top_5_providers_ebikes.values()):\n",
    "    plt.text(bar.get_x() + bar.get_width() / 2 - 0.1, bar.get_height() + 10, str(count), ha='center', va='bottom')\n",
    "\n",
    "plt.show()"
   ]
  },
  {
   "cell_type": "code",
   "execution_count": null,
   "id": "c843dd7b-4f0b-44e2-920a-91f107726614",
   "metadata": {},
   "outputs": [],
   "source": [
    "# Plotting the bar chart for  top_5_providers based on total counts Across 3 Segments for E-bikes:\n",
    "top_5_providers_ebikes.plot(kind='bar', color='skyblue')\n",
    "plt.xlabel('Provider')\n",
    "plt.ylabel('Total Counts for E-bikes')\n",
    "plt.title('Top 5 Providers for E-bikes Based on Total Counts Across 3 Segments')\n",
    "plt.show()"
   ]
  },
  {
   "cell_type": "code",
   "execution_count": null,
   "id": "b239061d-21a3-48ba-8bd1-393474cd00ba",
   "metadata": {},
   "outputs": [],
   "source": [
    "# Plotting the stacked bar chart for detailed analysis E-bikes:\n",
    "top_5_provider_details_ebikes.plot(kind='bar', stacked=True, colormap='viridis')\n",
    "plt.xlabel('Provider')\n",
    "plt.ylabel('Counts')\n",
    "plt.title('Detailed Analysis for Top 5 Providers Across 3 Segments for E-bikes')\n",
    "plt.legend(title='Segment', bbox_to_anchor=(1.05, 1), loc='upper left')\n",
    "plt.show()"
   ]
  },
  {
   "cell_type": "markdown",
   "id": "7f7c6f0e-f413-4c82-8305-f3b55b4a9787",
   "metadata": {},
   "source": [
    "#Analyze the top 5 providers based on the three specified segments (\"Cheap\", \"Price-performance recommendation\", and \"Performance recommendation\") specifically for Fahrrad"
   ]
  },
  {
   "cell_type": "code",
   "execution_count": null,
   "id": "2d320498-71f6-4679-a247-dbd64409942b",
   "metadata": {},
   "outputs": [],
   "source": [
    "# Filter rows for Fahrrad\n",
    "fahrrad_df = cleaned_df[cleaned_df['criteria'] == 'Fahrrad']\n",
    "\n",
    "# Filter rows with the three specified segments\n",
    "filtered_fahrrad_df = fahrrad_df[fahrrad_df['segment'].isin(['Cheap', 'Price-performance recommendation', 'Performance recommendation'])]\n",
    "\n",
    "# Group by 'Provider' and 'Segment' and calculate the count of Fahrrad\n",
    "provider_segment_counts_fahrrad = filtered_fahrrad_df.groupby(['provider', 'segment']).size().unstack(fill_value=0)\n",
    "\n",
    "# Calculate the total count for each provider across the three segments for Fahrrad\n",
    "provider_total_counts_fahrrad = provider_segment_counts_fahrrad.sum(axis=1)\n",
    "\n",
    "# Sort providers based on total counts for Fahrrad in descending order and get the top 5\n",
    "top_5_providers_fahrrad = provider_total_counts_fahrrad.sort_values(ascending=False).head(5)\n",
    "\n",
    "# Display the top 5 providers for Fahrrad and their total counts\n",
    "print(\"Top 5 Providers Based on Total Counts Across 3 Segments for Fahrrad:\")\n",
    "display(top_5_providers_fahrrad)\n",
    "\n",
    "# Display the detailed analysis for the top 5 providers across the three segments for Fahrrad\n",
    "top_5_provider_details_fahrrad = provider_segment_counts_fahrrad.loc[top_5_providers_fahrrad.index]\n",
    "print(\"\\nDetailed Analysis for Top 5 Providers Across 3 Segments for Fahrrad:\")\n",
    "display(top_5_provider_details_fahrrad)"
   ]
  },
  {
   "cell_type": "code",
   "execution_count": null,
   "id": "c6dd9798-34fe-41fa-93ce-73186142cc8d",
   "metadata": {},
   "outputs": [],
   "source": [
    "# Plotting the bar chart based on Top 5 Providers Based on Total Counts Across 3 Segments for Fahrrad:\n",
    "top_5_providers_fahrrad.plot(kind='bar', color='red')\n",
    "plt.xlabel('Provider')\n",
    "plt.ylabel('Total Counts for Fahrrad')\n",
    "plt.title('Top 5 Providers for Fahrrad Based on Total Counts Across 3 Segments')\n",
    "plt.show()"
   ]
  },
  {
   "cell_type": "code",
   "execution_count": null,
   "id": "c1d157b5-a924-4bfb-a0f8-56e3b290e4a4",
   "metadata": {},
   "outputs": [],
   "source": [
    "# Plotting the stacked bar chart based on Detailed Analysis for Top 5 Providers Across 3 Segments for Fahrrad:\n",
    "top_5_provider_details_fahrrad.plot(kind='bar', stacked=True, colormap='viridis')\n",
    "plt.xlabel('Provider')\n",
    "plt.ylabel('Counts')\n",
    "plt.title('Detailed Analysis for Top 5 Providers Across 3 Segments for Fahrrad')\n",
    "plt.legend(title='Segment', bbox_to_anchor=(1.05, 1), loc='upper left')\n",
    "plt.show()"
   ]
  },
  {
   "cell_type": "code",
   "execution_count": null,
   "id": "5efd55b1-f8ff-4948-a36b-81f288a6bd7c",
   "metadata": {},
   "outputs": [],
   "source": [
    "# Filter rows for both \"E-bikes\" and \"Fahrrad\" and the specified month\n",
    "filtered_df_november = cleaned_df[\n",
    "    (cleaned_df['criteria'].isin(['E-Bike', 'Fahrrad'])) &\n",
    "    (cleaned_df['segment'].isin(['Cheap', 'Price-performance recommendation', 'Performance recommendation'])) &\n",
    "    (cleaned_df['month'] == 'November')\n",
    "]\n",
    "\n",
    "# Group by 'Provider' and 'Criteria' and calculate the total count across the three segments for each provider\n",
    "provider_total_counts_november = filtered_df_november.groupby(['provider', 'criteria']).size().unstack(fill_value=0).sum(axis=1)\n",
    "\n",
    "# Get the top 3 providers based on total counts\n",
    "top_3_providers_november = provider_total_counts_november.sort_values(ascending=False).head(3)\n",
    "\n",
    "# Display the top 3 providers and their total counts for November\n",
    "print(\"Top 3 Providers Based on Total Counts Across 3 Segments for Both E-Bikes and Fahrrad in November:\")\n",
    "display(top_3_providers_november)"
   ]
  },
  {
   "cell_type": "markdown",
   "id": "2e663080-9c8e-459c-8eea-73912a8334b0",
   "metadata": {},
   "source": [
    "# Analyze the top 3 providers based on the total count of the three segments (\"Cheap\", \"Price-performance recommendation\", \"Performance recommendation\") for both \"E-bikes\" and \"Fahrrad\" across all months and show the trend"
   ]
  },
  {
   "cell_type": "code",
   "execution_count": null,
   "id": "90edc275-767b-4f0b-9deb-cd05d75060b1",
   "metadata": {},
   "outputs": [],
   "source": [
    "# Filter rows for both \"E-bikes\" and \"Fahrrad\"\n",
    "filtered_df = cleaned_df[cleaned_df['criteria'].isin(['E-Bike', 'Fahrrad'])]\n",
    "\n",
    "# Filter rows with the three specified segments\n",
    "filtered_df = filtered_df[filtered_df['segment'].isin(['Cheap', 'Price-performance recommendation', 'Performance recommendation'])]\n",
    "\n",
    "# Group by 'Provider' and 'Criteria' and calculate the total count across the three segments for each provider\n",
    "provider_total_counts = filtered_df.groupby(['provider', 'criteria']).size().unstack(fill_value=0).sum(axis=1)\n",
    "\n",
    "# Get the top 3 providers based on total counts\n",
    "top_3_providers = provider_total_counts.sort_values(ascending=False).head(3)\n",
    "\n",
    "# Display the top 3 providers and their total counts\n",
    "print(\"Top 3 Providers Based on Total Counts Across 3 Segments for Both E-Bikes and Fahrrad:\")\n",
    "display(top_3_providers)\n"
   ]
  },
  {
   "cell_type": "code",
   "execution_count": null,
   "id": "80020326-6cc9-4029-8601-6869387ecab5",
   "metadata": {},
   "outputs": [],
   "source": [
    "# Create a bar plot to visualize the top 3 providers for November\n",
    "plt.figure(figsize=(8, 6))\n",
    "sns.barplot(x=top_3_providers_november.index, y=top_3_providers_november.values)\n",
    "\n",
    "# Customize the plot\n",
    "plt.title('Top 3 Providers Based on Total Counts Across 3 Segments (E-Bikes and Fahrrad) in November')\n",
    "plt.xlabel('Provider')\n",
    "plt.ylabel('Total Counts')\n",
    "\n",
    "# Show the plot\n",
    "plt.show()"
   ]
  },
  {
   "cell_type": "code",
   "execution_count": null,
   "id": "ec8cda1e-cb6c-4156-bec3-93c337fea1f5",
   "metadata": {},
   "outputs": [],
   "source": [
    "# Assuming 'cleaned_df' is your DataFrame\n",
    "column_values = cleaned_df['month'].unique()\n",
    "print(column_values)\n"
   ]
  },
  {
   "cell_type": "code",
   "execution_count": null,
   "id": "ccae23b8-b76f-4d29-8920-3e727e67c840",
   "metadata": {},
   "outputs": [],
   "source": [
    "# Function to get the top 3 providers based on total counts for a given month\n",
    "def get_top_3_providers(cleaned_df, month):\n",
    "    # Filter rows for the specified month\n",
    "    month_df = cleaned_df[cleaned_df['month'] == month]\n",
    "    \n",
    "    # Check if there is data for the specified month\n",
    "    if month_df.empty:\n",
    "        print(f\"No data available for {month}. Skipping.\")\n",
    "        return pd.Series()  # Return an empty Series if no data\n",
    "    \n",
    "    # Filter rows with the three specified segments\n",
    "    filtered_df = month_df[month_df['segment'].isin(['Cheap', 'Price-performance recommendation', 'Performance recommendation'])]\n",
    "    \n",
    "    # Group by 'Provider' and 'Segment' and calculate the count\n",
    "    provider_segment_counts = filtered_df.groupby(['provider', 'segment']).size().unstack(fill_value=0)\n",
    "    \n",
    "    # Calculate the total count for each provider across the three segments\n",
    "    provider_total_counts = provider_segment_counts.sum(axis=1)\n",
    "    \n",
    "    # Sort providers based on total counts in descending order and get the top 3\n",
    "    top_3_providers = provider_total_counts.sort_values(ascending=False).head(3)\n",
    "    \n",
    "    return top_3_providers\n",
    "\n",
    "# List of months\n",
    "months = ['July', 'August', 'September', 'October', 'November']\n",
    "\n",
    "# Create subplots for each line\n",
    "fig, axes = plt.subplots(nrows=2, ncols=3, figsize=(15, 8))\n",
    "\n",
    "# Plotting charts for each month\n",
    "for i, month in enumerate(months):\n",
    "    # Get top 3 providers for the entire dataset\n",
    "    top_3_all = get_top_3_providers(cleaned_df, month)\n",
    "    \n",
    "    # Check if there is data before attempting to plot\n",
    "    if not top_3_all.empty:\n",
    "        # Determine subplot position\n",
    "        subplot_position = (i // 3, i % 3)\n",
    "        \n",
    "        # Create a bar chart in the respective subplot\n",
    "        axes[subplot_position].bar(top_3_all.index, top_3_all.values, color='lightcoral')\n",
    "        axes[subplot_position].set_title(f'Top 3 Providers - {month}')\n",
    "        axes[subplot_position].set_xlabel('Provider')\n",
    "        axes[subplot_position].set_ylabel('Total Counts')\n",
    "\n",
    "# Adjust layout\n",
    "plt.tight_layout()\n",
    "plt.show()"
   ]
  },
  {
   "cell_type": "markdown",
   "id": "9eefe4d1-b731-4db5-9b48-2db89844ec07",
   "metadata": {},
   "source": [
    "# analyze the top 5 providers based on the total counts of the three segments (\"Cheap\", \"Price-performance recommendation\", \"Performance recommendation\") across different locations"
   ]
  },
  {
   "cell_type": "code",
   "execution_count": null,
   "id": "73120f45-3784-4d28-8fa1-38c2f489d740",
   "metadata": {},
   "outputs": [],
   "source": [
    "# Filter rows with the three specified segments\n",
    "filtered_df = cleaned_df[cleaned_df['segment'].isin(['Cheap', 'Price-performance recommendation', 'Performance recommendation'])]\n",
    "\n",
    "# Group by 'Provider', 'Location', and 'Criteria' and calculate the total count across the three segments for each provider and location\n",
    "provider_location_counts = filtered_df.groupby(['provider', 'location', 'criteria']).size().unstack(fill_value=0).sum(axis=1)\n",
    "\n",
    "# Get the top 5 providers based on total counts\n",
    "top_5_providers = provider_location_counts.sort_values(ascending=False).head(5)\n",
    "\n",
    "# Display the top 5 providers and their total counts\n",
    "print(\"Top 5 Providers Based on Total Counts Across 3 Segments Across Different Locations:\")\n",
    "display(top_5_providers)"
   ]
  },
  {
   "cell_type": "code",
   "execution_count": null,
   "id": "156d5f1c-599e-4b4d-aac4-f06aa276086e",
   "metadata": {},
   "outputs": [],
   "source": [
    "# Display the top 5 providers and their total counts\n",
    "print(\"Top 5 Providers Based on Total Counts Across 3 Segments Across Different Locations:\")\n",
    "display(top_5_providers)\n",
    "\n",
    "# Plotting a bar chart for the top 5 providers\n",
    "top_5_providers.plot(kind='bar', figsize=(12, 8), colormap='viridis')\n",
    "plt.xlabel('Provider and Location')\n",
    "plt.ylabel('Total Counts')\n",
    "plt.title('Top 5 Providers Across Different Locations for 3 Segments')\n",
    "plt.show()"
   ]
  },
  {
   "cell_type": "markdown",
   "id": "994740f1-9a94-4bdc-82a6-361b89828a9a",
   "metadata": {},
   "source": [
    "#detailed analysis for the top 3 providers of the three segments (\"Cheap\", \"Price-performance recommendation\", \"Performance recommendation\") across different locations"
   ]
  },
  {
   "cell_type": "code",
   "execution_count": null,
   "id": "ed9b0e33-78b6-4e0b-8590-d282a4d88fa1",
   "metadata": {},
   "outputs": [],
   "source": [
    "# Filter rows with the specified segments\n",
    "filtered_df = cleaned_df[cleaned_df['segment'].isin(['Cheap', 'Price-performance recommendation', 'Performance recommendation'])]\n",
    "\n",
    "# Get the top 3 providers for each location and each segment\n",
    "top_3_providers_by_location = {}\n",
    "for segment in ['Cheap', 'Price-performance recommendation', 'Performance recommendation']:\n",
    "    top_3_providers_by_location[segment] = (\n",
    "        filtered_df[filtered_df['segment'] == segment]\n",
    "        .groupby(['location', 'provider'])\n",
    "        .size()\n",
    "        .groupby('location', group_keys=False)\n",
    "        .nlargest(3)\n",
    "        .reset_index()\n",
    "    )\n",
    "\n",
    "# Display the top 3 providers for each location and each segment\n",
    "print(\"Top 3 Providers for Each Location Across 3 Segments:\")\n",
    "for segment, providers in top_3_providers_by_location.items():\n",
    "    print(f\"\\nSegment: {segment}\")\n",
    "    display(providers.head(3))  # Display only the top 3 providers"
   ]
  },
  {
   "cell_type": "code",
   "execution_count": null,
   "id": "0af080ea-e24e-4ffc-9f55-8c4f15569ad0",
   "metadata": {},
   "outputs": [],
   "source": [
    "# Plotting a stacked bar chart for the top 3 providers for each location and each segment\n",
    "fig, axes = plt.subplots(nrows=len(top_3_providers_by_location), figsize=(12, 8 * len(top_3_providers_by_location)))\n",
    "\n",
    "for i, (segment, providers) in enumerate(top_3_providers_by_location.items()):\n",
    "    provider_data = filtered_df[\n",
    "        (filtered_df['location'].isin(providers['location'])) &\n",
    "        (filtered_df['segment'] == segment) &\n",
    "        (filtered_df['provider'].isin(providers['provider']))\n",
    "    ]\n",
    "    provider_data.groupby(['location', 'provider']).size().unstack(fill_value=0).T.plot(kind='bar', stacked=True, ax=axes[i], colormap='viridis')\n",
    "    axes[i].set_title(f'Detailed Analysis for Top 3 Providers in Different Locations for {segment}')\n",
    "    axes[i].set_xlabel('Provider')\n",
    "    axes[i].set_ylabel('Counts')\n",
    "    axes[i].legend(title='Location', bbox_to_anchor=(1.05, 1), loc='upper left')\n",
    "\n",
    "plt.tight_layout()\n",
    "plt.show()"
   ]
  },
  {
   "cell_type": "markdown",
   "id": "c2876e68-22ef-4b69-bdcb-88d79df87f6f",
   "metadata": {},
   "source": [
    "#top 3 providers based on the total counts across the three segments (\"Cheap,\" \"Price-performance recommendation,\" and \"Performance recommendation\") specifically for E-bikes and for different locations"
   ]
  },
  {
   "cell_type": "code",
   "execution_count": null,
   "id": "5d63d3b1-b2e0-48e5-aa8a-6554e5c3b674",
   "metadata": {},
   "outputs": [],
   "source": [
    "# Filter rows for E-bikes and the specified segments\n",
    "filtered_df_ebikes = cleaned_df[(cleaned_df['criteria'] == 'E-Bike') & \n",
    "                                (cleaned_df['segment'].isin(['Cheap', 'Price-performance recommendation', 'Performance recommendation']))]\n",
    "\n",
    "# Get the top 3 providers for E-bikes based on total counts across the three segments for each location\n",
    "top_3_providers_ebikes_by_location = (\n",
    "    filtered_df_ebikes.groupby(['location', 'provider'])\n",
    "    .size()\n",
    "    .groupby('location', group_keys=False)\n",
    "    .nlargest(3)\n",
    "    .reset_index()\n",
    ")\n",
    "\n",
    "# Display the top 3 providers for E-bikes based on total counts across the three segments for each location\n",
    "print(\"Top 3 Providers for E-bikes Based on Total Counts Across 3 Segments and Different Locations:\")\n",
    "display(top_3_providers_ebikes_by_location)"
   ]
  },
  {
   "cell_type": "code",
   "execution_count": null,
   "id": "bf6bbb4b-27c9-4158-a2c7-79aaccc038be",
   "metadata": {},
   "outputs": [],
   "source": [
    "# Plotting a stacked bar chart for the top 3 providers for E-bikes based on total counts across the three segments for each location\n",
    "fig, ax = plt.subplots(figsize=(12, 8))\n",
    "provider_data = filtered_df_ebikes[filtered_df_ebikes['provider'].isin(top_3_providers_ebikes_by_location['provider'])]\n",
    "provider_data.groupby(['location', 'provider']).size().unstack(fill_value=0).T.plot(kind='bar', stacked=True, ax=ax, colormap='viridis')\n",
    "ax.set_title('Top 3 Providers for E-bikes Based on Total Counts Across 3 Segments in Different Locations')\n",
    "ax.set_xlabel('Provider')\n",
    "ax.set_ylabel('Total Counts')\n",
    "ax.legend(title='Location', bbox_to_anchor=(1.05, 1), loc='upper left')\n",
    "\n",
    "plt.tight_layout()\n",
    "plt.show()"
   ]
  },
  {
   "cell_type": "markdown",
   "id": "5ae370c6-e598-4017-95ff-4a09b6fc6298",
   "metadata": {},
   "source": [
    "#perform a detailed analysis for the top 3 providers based on total count across the 3 segments (\"Cheap,\" \"Price-performance recommendation,\" and \"Performance recommendation\") specifically for E-bikes and for different locations"
   ]
  },
  {
   "cell_type": "code",
   "execution_count": null,
   "id": "6b6cf7eb-54e1-4ed1-ad9c-059cf1ec902c",
   "metadata": {},
   "outputs": [],
   "source": [
    "# Filter rows for E-bikes and the specified segments\n",
    "filtered_df_ebikes = cleaned_df[(cleaned_df['criteria'] == 'E-Bike') & \n",
    "                                (cleaned_df['segment'].isin(['Cheap', 'Price-performance recommendation', 'Performance recommendation']))]\n",
    "\n",
    "# Get the top 3 providers for E-bikes based on total counts across the three segments for each location\n",
    "top_3_providers_ebikes_by_location = (\n",
    "    filtered_df_ebikes.groupby(['location', 'provider'])\n",
    "    .size()\n",
    "    .groupby('location', group_keys=False)\n",
    "    .nlargest(3)\n",
    "    .reset_index()\n",
    ")\n",
    "\n",
    "# Display the top 3 providers for E-bikes based on total counts across the three segments for each location\n",
    "print(\"Top 3 Providers for E-bikes Based on Total Counts Across 3 Segments and Different Locations:\")\n",
    "display(top_3_providers_ebikes_by_location)"
   ]
  },
  {
   "cell_type": "code",
   "execution_count": null,
   "id": "7552b120-3847-49c6-a587-440d22783bea",
   "metadata": {},
   "outputs": [],
   "source": [
    "# Perform a detailed analysis for the top 3 providers across the three segments for E-bikes and different locations\n",
    "fig, ax = plt.subplots(figsize=(15, 8))\n",
    "\n",
    "# Use seaborn for a grouped bar chart with only the top 3 providers\n",
    "sns.barplot(x='location', y=0, hue='provider', data=top_3_providers_ebikes_by_location, ax=ax, palette='viridis')\n",
    "\n",
    "ax.set_title('Detailed Analysis for Top 3 Providers in Different Locations for E-bikes')\n",
    "ax.set_xlabel('Location')\n",
    "ax.set_ylabel('Counts')\n",
    "ax.legend(title='Provider', bbox_to_anchor=(1.05, 1), loc='upper left', ncol=1)  # Adjust the number of columns as needed\n",
    "\n",
    "plt.tight_layout()\n",
    "plt.show()"
   ]
  },
  {
   "cell_type": "markdown",
   "id": "5d731ac0-aaf3-4275-bf8c-943ca2ca5a24",
   "metadata": {},
   "source": [
    "# perform a detailed analysis for the top 3 providers based on total count across the three segments (\"Cheap,\" \"Price-performance recommendation,\" and \"Performance recommendation\") specifically for Fahrrad and for different locations"
   ]
  },
  {
   "cell_type": "code",
   "execution_count": null,
   "id": "4cc0971b-c21f-41d9-9a10-a5d655768b9c",
   "metadata": {},
   "outputs": [],
   "source": [
    "# Filter rows for Fahrrad and the specified segments\n",
    "filtered_df_fahrrad = cleaned_df[(cleaned_df['criteria'] == 'Fahrrad') & \n",
    "                                  (cleaned_df['segment'].isin(['Cheap', 'Price-performance recommendation', 'Performance recommendation']))]\n",
    "\n",
    "# Get the top 3 providers for Fahrrad based on total counts across the three segments for each location\n",
    "top_3_providers_fahrrad_by_location = (\n",
    "    filtered_df_fahrrad.groupby(['location', 'provider'])\n",
    "    .size()\n",
    "    .groupby('location', group_keys=False)\n",
    "    .nlargest(3)\n",
    "    .reset_index()\n",
    ")\n",
    "\n",
    "# Display the top 3 providers for Fahrrad based on total counts across the three segments for each location\n",
    "print(\"Top 3 Providers for Fahrrad Based on Total Counts Across 3 Segments and Different Locations:\")\n",
    "display(top_3_providers_fahrrad_by_location)"
   ]
  },
  {
   "cell_type": "code",
   "execution_count": null,
   "id": "c50aaa2e-b444-4168-9244-5d2010dc4d57",
   "metadata": {},
   "outputs": [],
   "source": [
    "# Perform a detailed analysis for the top 3 providers across the three segments for Fahrrad and different locations\n",
    "fig, ax = plt.subplots(figsize=(15, 8))\n",
    "\n",
    "# Use seaborn for a grouped bar chart with only the top 3 providers\n",
    "sns.barplot(x='location', y=0, hue='provider', data=top_3_providers_fahrrad_by_location, ax=ax, palette='viridis')\n",
    "\n",
    "ax.set_title('Detailed Analysis for Top 3 Providers in Different Locations for Fahrrad')\n",
    "ax.set_xlabel('Location')\n",
    "ax.set_ylabel('Counts')\n",
    "ax.legend(title='Provider', bbox_to_anchor=(1.05, 1), loc='upper left', ncol=1)  # Adjust the number of columns as needed\n",
    "\n",
    "plt.tight_layout()\n",
    "plt.show()"
   ]
  },
  {
   "cell_type": "markdown",
   "id": "620d472c-baf5-47ce-a905-0294aa93b82a",
   "metadata": {},
   "source": [
    "# Analyze the top 3 providers based on the total count of the three segments (\"Cheap,\" \"Price-performance recommendation,\" \"Performance recommendation\") for both criteria (\"Fahrrad\" and \"E-Bike\") across all months and locations, and show the trend"
   ]
  },
  {
   "cell_type": "code",
   "execution_count": null,
   "id": "a77485dc-aebc-47a7-87c2-66b20cd84e0e",
   "metadata": {},
   "outputs": [],
   "source": [
    "# Filter rows for the specified segments and criteria\n",
    "filtered_df_segments = cleaned_df[cleaned_df['segment'].isin(['Cheap', 'Price-performance recommendation', 'Performance recommendation'])]\n",
    "\n",
    "# Get the top 3 providers based on total counts across the three segments for each criteria, month, and location\n",
    "top_3_providers_by_criteria_month_location = (\n",
    "    filtered_df_segments.groupby(['criteria', 'month', 'location', 'provider'])\n",
    "    .size()\n",
    "    .groupby(['criteria', 'month', 'location'], group_keys=False)\n",
    "    .nlargest(3)\n",
    "    .reset_index(name='counts')\n",
    ")\n",
    "\n",
    "# Perform a trend analysis for the top 3 providers based on total counts across the three segments for each criteria, month, and location\n",
    "fig, ax = plt.subplots(figsize=(15, 8))\n",
    "\n",
    "# Use seaborn for a grouped bar chart with only the top 3 providers\n",
    "sns.barplot(x='month', y='counts', hue='location', data=top_3_providers_by_criteria_month_location, palette='viridis', dodge=True)\n",
    "\n",
    "ax.set_title('Trend Analysis for Top 3 Providers Across 3 Segments for Fahrrad and E-Bike')\n",
    "ax.set_xlabel('Month')\n",
    "ax.set_ylabel('Counts')\n",
    "ax.legend(title='Location', bbox_to_anchor=(1.05, 1), loc='upper left', ncol=1)  # Adjust the number of columns as needed\n",
    "\n",
    "plt.tight_layout()\n",
    "plt.show()"
   ]
  },
  {
   "cell_type": "code",
   "execution_count": null,
   "id": "3775e12c-04d5-42bc-85a0-395896e42ad4",
   "metadata": {},
   "outputs": [],
   "source": [
    "# Filter data for November\n",
    "november_data = cleaned_df[cleaned_df['month'] == 'November']\n",
    "\n",
    "# Group by provider and location, count occurrences, and calculate percentage\n",
    "provider_location_percentage = november_data.groupby(['provider', 'location']).size().unstack(fill_value=0)\n",
    "provider_location_percentage = provider_location_percentage.div(provider_location_percentage.sum(axis=1), axis=0) * 100\n",
    "\n",
    "# Create a stacked bar chart\n",
    "plt.figure(figsize=(12, 8))\n",
    "provider_location_percentage.plot(kind='bar', stacked=True, colormap='viridis')\n",
    "plt.title('Percentage of Providers in Each Location - November')\n",
    "plt.xlabel('Provider')\n",
    "plt.ylabel('Percentage')\n",
    "plt.legend(title='Location', bbox_to_anchor=(1, 1), loc='upper left')\n",
    "plt.show()"
   ]
  },
  {
   "cell_type": "code",
   "execution_count": null,
   "id": "ecd64bb5-6f01-46c8-85a6-d56439c3b761",
   "metadata": {},
   "outputs": [],
   "source": [
    "# Filter data for November\n",
    "november_data = cleaned_df[cleaned_df['month'] == 'November']\n",
    "\n",
    "# Convert 'location' column to categorical type\n",
    "november_data['location'] = november_data['location'].astype('category')\n",
    "\n",
    "# Convert 'location' categories to numeric codes\n",
    "november_data['location_code'] = november_data['location'].cat.codes\n",
    "\n",
    "# Group by provider and location, count occurrences, and calculate percentage\n",
    "provider_location_percentage = november_data.groupby(['provider', 'location_code']).size().unstack(fill_value=0)\n",
    "provider_location_percentage = provider_location_percentage.div(provider_location_percentage.sum(axis=1), axis=0) * 100\n",
    "\n",
    "# Find the location with the maximum percentage for each provider\n",
    "most_common_location_for_provider = provider_location_percentage.idxmax(axis=1)\n",
    "most_common_percentage_for_provider = provider_location_percentage.max(axis=1)\n",
    "\n",
    "# Create a line plot for each provider\n",
    "plt.figure(figsize=(8, 6))\n",
    "\n",
    "# Plot a line for each provider\n",
    "for provider in provider_location_percentage.index:\n",
    "    plt.plot(provider_location_percentage.columns, provider_location_percentage.loc[provider], label=provider)\n",
    "\n",
    "# Customize X-axis ticks to display location names\n",
    "plt.xticks(provider_location_percentage.columns, november_data['location'].unique(), rotation='vertical')\n",
    "\n",
    "plt.title('Percentage of Providers in Each Location - November')\n",
    "plt.xlabel('Location')\n",
    "plt.ylabel('Percentage')\n",
    "plt.legend(loc='upper left', bbox_to_anchor=(1, 1))\n",
    "plt.show()"
   ]
  },
  {
   "cell_type": "code",
   "execution_count": null,
   "id": "4417a746-3cfd-4e8c-9b64-d006e252b15d",
   "metadata": {},
   "outputs": [],
   "source": [
    "# Filter data for November\n",
    "# Filter data for November\n",
    "november_data = cleaned_df[cleaned_df['month'] == 'November']\n",
    "\n",
    "# Convert 'location' column to categorical type\n",
    "november_data['location'] = november_data['location'].astype('category')\n",
    "\n",
    "# Convert 'location' categories to numeric codes\n",
    "november_data['location_code'] = november_data['location'].cat.codes\n",
    "\n",
    "# Group by provider and location, count occurrences, and calculate percentage\n",
    "provider_location_percentage = november_data.groupby(['provider', 'location_code']).size().unstack(fill_value=0)\n",
    "provider_location_percentage = provider_location_percentage.div(provider_location_percentage.sum(axis=1), axis=0) * 100\n",
    "\n",
    "# Find the location with the maximum percentage for each provider\n",
    "most_common_location_for_provider = provider_location_percentage.idxmax(axis=1)\n",
    "most_common_percentage_for_provider = provider_location_percentage.max(axis=1)\n",
    "\n",
    "# Create a horizontal bar plot\n",
    "plt.figure(figsize=(12, 8))\n",
    "\n",
    "# Sort providers based on the most common location percentage\n",
    "sorted_providers = most_common_percentage_for_provider.sort_values(ascending=False).index\n",
    "\n",
    "# Plot horizontal bars\n",
    "bars = plt.barh(sorted_providers, most_common_percentage_for_provider[sorted_providers], color='skyblue')\n",
    "\n",
    "# Label the bars with both location names and percentage values\n",
    "for bar, provider in zip(bars, sorted_providers):\n",
    "    percentage = most_common_percentage_for_provider[provider]\n",
    "    location_name = november_data[november_data['provider'] == provider]['location'].iloc[0]\n",
    "    plt.text(bar.get_width() + 1, bar.get_y() + bar.get_height() / 2, f'{provider} ({location_name}): {percentage:.2f}%', ha='left', va='center', fontsize=8)\n",
    "\n",
    "plt.title('Most Common Location for Each Provider - November')\n",
    "plt.xlabel('Percentage')\n",
    "plt.ylabel('Provider')\n",
    "plt.show()"
   ]
  },
  {
   "cell_type": "markdown",
   "id": "55e577f2-2438-4e15-9352-451ad209588e",
   "metadata": {},
   "source": [
    "# Price trends and predictions over 5 months to estimate the price changes, provider changes"
   ]
  },
  {
   "cell_type": "code",
   "execution_count": null,
   "id": "ce7c2aea-12ed-4722-87af-2ec436624848",
   "metadata": {},
   "outputs": [],
   "source": [
    "unique_values = cleaned_df['cost_of_bike'].unique()\n",
    "unique_values"
   ]
  },
  {
   "cell_type": "code",
   "execution_count": null,
   "id": "a546cb1d-d22f-47c6-b8b7-ce286d875913",
   "metadata": {},
   "outputs": [],
   "source": [
    "# Create a dictionary to map cost categories\n",
    "cost_category_mapping = {\n",
    "    500: \"Low\", 750: \"Low\", 1000: \"Low\", 1500: \"Low\", 2000: \"Low\", 2500: \"Low\",\n",
    "    3000: \"Medium\", 3500: \"Medium\", 4000: \"Medium\", 4500: \"Medium\", 5000: \"Medium\", 6000: \"Medium\",\n",
    "    7000: \"High\", 8000: \"High\", 9000: \"High\", 10000: \"High\", 11000: \"High\", 12000: \"High\"\n",
    "}\n",
    "\n",
    "# Add a new column \"cost_category\" based on mapping\n",
    "cleaned_df['cost_category'] = cleaned_df['cost_of_bike'].map(cost_category_mapping)\n",
    "\n",
    "# Print the updated dataframe\n",
    "display(cleaned_df)"
   ]
  },
  {
   "cell_type": "code",
   "execution_count": null,
   "id": "fca0ae38-7d3e-45eb-aaa1-378914bda161",
   "metadata": {},
   "outputs": [],
   "source": [
    "cleaned_df.to_csv('cleaned_df1.csv', index=False)"
   ]
  },
  {
   "cell_type": "markdown",
   "id": "c4e1e293-9347-4f63-9ead-c9e6bf291aad",
   "metadata": {},
   "source": [
    "# Cost category distribution for each provider"
   ]
  },
  {
   "cell_type": "code",
   "execution_count": null,
   "id": "14cb1d32-66be-4985-8b41-0f8cd44243ec",
   "metadata": {},
   "outputs": [],
   "source": [
    "# Count the number of providers in each cost category\n",
    "cost_category_counts = cleaned_df.groupby('cost_category')['provider'].nunique()\n",
    "\n",
    "# Display the counts\n",
    "display(cost_category_counts)"
   ]
  },
  {
   "cell_type": "code",
   "execution_count": null,
   "id": "5e5b70d0-d3ae-4575-9ce6-f0fb44aca056",
   "metadata": {},
   "outputs": [],
   "source": [
    "# Count the number of providers in each cost category for each provider\n",
    "november_data = cleaned_df[cleaned_df['month'] == 'November']\n",
    "provider_cost_category_counts = november_data.groupby('cost_category')['provider'].nunique()\n",
    "#provider_cost_category_counts = cleaned_df.groupby(['provider', 'cost_category', '']).size().unstack(fill_value=0)\n",
    "# Plotting the bar chart\n",
    "plt.figure(figsize=(10, 6))\n",
    "provider_cost_category_counts.sort_values().plot(kind='bar', color='skyblue')\n",
    "plt.title('Number of Providers in Each Cost Category (November)')\n",
    "plt.xlabel('Cost Category')\n",
    "plt.ylabel('Number of Providers')\n",
    "plt.xticks(rotation=45, ha='right')\n",
    "\n",
    "# Show the plot\n",
    "plt.show()\n",
    "# Plotting the bar chart\n",
    "#provider_cost_category_counts.plot(kind='bar', stacked=True, figsize=(12, 8), colormap='viridis')\n",
    "#plt.title('Cost Category Distribution for Each Provider')\n",
    "#plt.xlabel('Cost category')\n",
    "#plt.ylabel('Provider')\n",
    "#plt.legend(title='Cost Category')\n",
    "#plt.show()"
   ]
  },
  {
   "cell_type": "code",
   "execution_count": null,
   "id": "df3f7492-3ff2-4e24-8332-659251a2365c",
   "metadata": {},
   "outputs": [],
   "source": [
    "# Filter the DataFrame for the month of November and specified segments\n",
    "selected_segments = [\"Cheap\", \"Price-performance recommendation\", \"Performance recommendation\"]\n",
    "filtered_data = cleaned_df[(cleaned_df['month'] == 'November') & (cleaned_df['segment'].isin(selected_segments))]\n",
    "\n",
    "# Pivot the data to get a DataFrame suitable for a stacked bar chart\n",
    "pivot_data = filtered_data.pivot_table(index='provider', columns='cost_category', values='rating', aggfunc='count', fill_value=0)\n",
    "\n",
    "# Calculate the total count for each provider\n",
    "pivot_data['Total'] = pivot_data.sum(axis=1)\n",
    "\n",
    "# Sort the DataFrame based on the total count in descending order\n",
    "pivot_data_sorted = pivot_data.sort_values(by='Total', ascending=False).drop(columns='Total')\n",
    "\n",
    "# Specify the desired order for the 'cost_category' column\n",
    "cost_category_order = ['High', 'Medium', 'Low']\n",
    "pivot_data_sorted = pivot_data_sorted.reindex(columns=cost_category_order)\n",
    "\n",
    "# Plotting the stacked bar chart\n",
    "plt.figure(figsize=(12, 8))\n",
    "pivot_data_sorted.plot(kind='bar', stacked=True, colormap='viridis', edgecolor='black')\n",
    "\n",
    "plt.title('Number of Providers in Each Cost Category (November) - Selected Segments')\n",
    "plt.xlabel('Provider')\n",
    "plt.ylabel('Count')\n",
    "plt.xticks(rotation=45, ha='right')\n",
    "\n",
    "# Show the plot\n",
    "plt.legend(title='Cost Category')\n",
    "plt.show()"
   ]
  },
  {
   "cell_type": "code",
   "execution_count": null,
   "id": "c1dc2958-1eed-44aa-9507-564eea09b544",
   "metadata": {},
   "outputs": [],
   "source": [
    "# Filter the DataFrame for the month of November and specified segments\n",
    "selected_segments = [\"Cheap\", \"Price-performance recommendation\", \"Performance recommendation\"]\n",
    "filtered_data = cleaned_df[(cleaned_df['month'] == 'November') & (cleaned_df['segment'].isin(selected_segments))]\n",
    "\n",
    "# Pivot the data to get a DataFrame suitable for a stacked bar chart\n",
    "pivot_data = filtered_data.pivot_table(index='provider', columns='cost_category', values='rating', aggfunc='count', fill_value=0)\n",
    "\n",
    "# Calculate the total count for each provider\n",
    "pivot_data['Total'] = pivot_data.sum(axis=1)\n",
    "\n",
    "# Sort the DataFrame based on the total count in descending order\n",
    "pivot_data_sorted = pivot_data.sort_values(by='Total', ascending=False).drop(columns='Total')\n",
    "\n",
    "# Specify the desired order for the 'cost_category' column\n",
    "cost_category_order = ['High', 'Medium', 'Low']\n",
    "pivot_data_sorted = pivot_data_sorted.reindex(columns=cost_category_order)\n",
    "\n",
    "# Plotting the stacked bar chart\n",
    "plt.figure(figsize=(12, 8))\n",
    "ax = pivot_data_sorted.plot(kind='bar', stacked=True, colormap='viridis', edgecolor='black')\n",
    "\n",
    "# Add labels to each stacked bar\n",
    "for p in ax.patches:\n",
    "    width, height = p.get_width(), p.get_height()\n",
    "    x, y = p.get_xy() \n",
    "    ax.annotate(f'{height}', (x + width/2, y + height/2), ha='center', va='center', fontsize=8)\n",
    "\n",
    "plt.title('Number of Providers in Each Cost Category (November) - Selected Segments')\n",
    "plt.xlabel('Provider')\n",
    "plt.ylabel('Count')\n",
    "plt.xticks(rotation=45, ha='right')\n",
    "\n",
    "# Show the plot\n",
    "plt.legend(title='Cost Category')\n",
    "plt.show()"
   ]
  },
  {
   "cell_type": "code",
   "execution_count": null,
   "id": "4198317e-da4f-41f9-8761-2dcf85acdf2f",
   "metadata": {},
   "outputs": [],
   "source": [
    "for column in cleaned_df.columns:\n",
    "    unique_values = cleaned_df[column].unique()\n",
    "    display(f\"Column: {column}\")\n",
    "    display(unique_values)\n",
    "  "
   ]
  },
  {
   "cell_type": "code",
   "execution_count": null,
   "id": "7e249dba-85c4-43c8-8ddd-0635df439b25",
   "metadata": {},
   "outputs": [],
   "source": [
    "# Assuming 'cleaned_df' is your DataFrame\n",
    "plt.figure(figsize=(8, 6))\n",
    "\n",
    "# Analyze the distribution of bike costs\n",
    "sns.histplot(cleaned_df['cost_of_bike'], kde=True, bins=20, color='skyblue')\n",
    "plt.title('Distribution of Bike Costs')\n",
    "plt.xlabel('Cost of Bike')\n",
    "plt.ylabel('Frequency')\n",
    "plt.show()"
   ]
  },
  {
   "cell_type": "code",
   "execution_count": null,
   "id": "490a3d88-3688-445c-8c93-41ca26fdd703",
   "metadata": {},
   "outputs": [],
   "source": [
    "# Scatter plot to investigate the relationship between bike cost and insurance price\n",
    "plt.figure(figsize=(10, 6))\n",
    "sns.scatterplot(x='cost_of_bike', y='price', data=cleaned_df, color='coral')\n",
    "plt.title('Relationship between Bike Cost and Insurance Price')\n",
    "plt.xlabel('Cost of Bike')\n",
    "plt.ylabel('Insurance Price')\n",
    "plt.show()"
   ]
  },
  {
   "cell_type": "code",
   "execution_count": null,
   "id": "f69f77ee-f925-45ba-ab87-aa8172c01d98",
   "metadata": {},
   "outputs": [],
   "source": [
    "# Box plot to visualize pricing distribution across different segments\n",
    "plt.figure(figsize=(8, 6))\n",
    "sns.boxplot(x='segment', y='price', data=cleaned_df, palette='viridis')\n",
    "plt.title('Pricing Distribution Across Customer Segments')\n",
    "plt.xlabel('Customer Segments')\n",
    "plt.ylabel('Insurance Price')\n",
    "plt.show()\n"
   ]
  },
  {
   "cell_type": "code",
   "execution_count": null,
   "id": "c9236594-c55b-4e1d-8682-a30a7599c555",
   "metadata": {},
   "outputs": [],
   "source": [
    "# Line plot to explore trends in pricing across different months\n",
    "plt.figure(figsize=(8, 6))\n",
    "sns.lineplot(x='month', y='price', data=cleaned_df, ci=None, marker='o', color='purple')\n",
    "plt.title('Pricing Trends Across Months')\n",
    "plt.xlabel('Month')\n",
    "plt.ylabel('Insurance Price')\n",
    "plt.show()\n"
   ]
  },
  {
   "cell_type": "code",
   "execution_count": null,
   "id": "711c1f90-4f55-4e3f-9352-6a47c7157bc5",
   "metadata": {},
   "outputs": [],
   "source": [
    "# Filter data for the specified segments\n",
    "selected_segments = ['Cheap', 'Performance recommendation', 'Price-performance recommendation']\n",
    "filtered_data = cleaned_df[cleaned_df['segment'].isin(selected_segments)]\n",
    "\n",
    "# Create a line plot to visualize the price trends\n",
    "plt.figure(figsize=(12, 8))\n",
    "sns.lineplot(x='month', y='cost_of_bike', hue='segment', data=filtered_data, marker='o')\n",
    "\n",
    "# Customize the plot\n",
    "plt.title('Price Trends based on Cost of Bike and Segments')\n",
    "plt.xlabel('Month')\n",
    "plt.ylabel('Cost of Bike')\n",
    "plt.legend(title='Segment', bbox_to_anchor=(1.05, 1), loc='upper left')\n",
    "\n",
    "# Show the plot\n",
    "plt.show()"
   ]
  },
  {
   "cell_type": "code",
   "execution_count": null,
   "id": "f98dd4b1-83bc-446e-b32f-51d44e310907",
   "metadata": {},
   "outputs": [],
   "source": [
    "#Line Chart:\n",
    "#To show trends over time, like the change in the average cost of bikes or ratings across months.\n",
    "# Define the order of months\n",
    "month_order = ['July', 'August', 'September', 'October', 'November']\n",
    "\n",
    "# Convert the 'month' column to a categorical type with the desired order\n",
    "cleaned_df['month'] = pd.Categorical(cleaned_df['month'], categories=month_order, ordered=True)\n",
    "\n",
    "# Group data by month and calculate the average cost of bikes for each month\n",
    "average_cost_by_month = cleaned_df.groupby('month')['cost_of_bike'].mean().reset_index()\n",
    "\n",
    "# Create a line plot to visualize the trend in the average cost of bikes\n",
    "plt.figure(figsize=(10, 6))\n",
    "sns.lineplot(x='month', y='cost_of_bike', data=average_cost_by_month, marker='o')\n",
    "\n",
    "# Customize the plot\n",
    "plt.title('Trend in Average Cost of Bikes Over Months')\n",
    "plt.xlabel('Month')\n",
    "plt.ylabel('Average Cost of Bikes')\n",
    "\n",
    "# Show the plot\n",
    "plt.show()"
   ]
  },
  {
   "cell_type": "code",
   "execution_count": null,
   "id": "bb04145d-ebdf-4e75-bdc5-3035671a023f",
   "metadata": {},
   "outputs": [],
   "source": [
    "# Count the occurrences of each bike type in the 'criteria' column\n",
    "bike_type_counts = cleaned_df['criteria'].value_counts()\n",
    "\n",
    "# Create a pie chart to represent the distribution of bike types\n",
    "plt.figure(figsize=(8, 8))\n",
    "plt.pie(bike_type_counts, labels=bike_type_counts.index, autopct='%1.1f%%', startangle=90, colors=['skyblue', 'lightgreen'])\n",
    "\n",
    "# Customize the plot\n",
    "plt.title('Percentage Distribution of Bike Types')\n",
    "plt.axis('equal')  # Equal aspect ratio ensures that the pie is drawn as a circle\n",
    "\n",
    "# Show the plot\n",
    "plt.show()"
   ]
  },
  {
   "cell_type": "code",
   "execution_count": null,
   "id": "1c7f818d-a43c-4da2-80bd-f8e3f5f79762",
   "metadata": {},
   "outputs": [],
   "source": [
    "# Filter data for specific values in the 'segment' column\n",
    "selected_segments = [\"Cheap\", \"Price-performance recommendation\", \"Performance recommendation\"]\n",
    "filtered_df = cleaned_df[cleaned_df['segment'].isin(selected_segments)]\n",
    "\n",
    "# Count the occurrences of each combination of 'segment' and 'criteria'\n",
    "segment_criteria_counts = filtered_df.groupby(['segment', 'criteria']).size().reset_index(name='count')\n",
    "\n",
    "# Create a treemap to visualize the distribution\n",
    "fig = px.treemap(segment_criteria_counts, path=['segment', 'criteria'], values='count',\n",
    "                 color='count', hover_data=['segment', 'criteria'],\n",
    "                 color_continuous_scale='Viridis', title='Distribution of Bike Types in Different Segments')\n",
    "\n",
    "# Show the plot\n",
    "fig.show()"
   ]
  },
  {
   "cell_type": "code",
   "execution_count": null,
   "id": "7985589b-573d-4149-b0f6-e93f65f9fb48",
   "metadata": {},
   "outputs": [],
   "source": []
  }
 ],
 "metadata": {
  "kernelspec": {
   "display_name": "venv",
   "language": "python",
   "name": "venv"
  },
  "language_info": {
   "codemirror_mode": {
    "name": "ipython",
    "version": 3
   },
   "file_extension": ".py",
   "mimetype": "text/x-python",
   "name": "python",
   "nbconvert_exporter": "python",
   "pygments_lexer": "ipython3",
   "version": "3.11.5"
  }
 },
 "nbformat": 4,
 "nbformat_minor": 5
}
